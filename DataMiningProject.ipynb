{
 "cells": [
  {
   "cell_type": "markdown",
   "id": "compound-salvation",
   "metadata": {},
   "source": [
    "# ebay products - price analysis and prediction"
   ]
  },
  {
   "cell_type": "markdown",
   "id": "south-establishment",
   "metadata": {},
   "source": [
    "## Import dataset from database"
   ]
  },
  {
   "cell_type": "code",
   "execution_count": 1,
   "id": "narrative-corporation",
   "metadata": {
    "ExecuteTime": {
     "end_time": "2021-05-24T10:23:13.704369Z",
     "start_time": "2021-05-24T10:23:13.253071Z"
    }
   },
   "outputs": [],
   "source": [
    "import pymysql.cursors\n",
    "\n",
    "connection = pymysql.connect(host='localhost',\n",
    "                             user='root',\n",
    "                             password='royY1987',\n",
    "                             database='ebay_products',\n",
    "                             charset='utf8mb4',\n",
    "                             cursorclass=pymysql.cursors.DictCursor)"
   ]
  },
  {
   "cell_type": "code",
   "execution_count": 2,
   "id": "bright-estate",
   "metadata": {
    "ExecuteTime": {
     "end_time": "2021-05-24T10:23:16.780143Z",
     "start_time": "2021-05-24T10:23:13.712423Z"
    }
   },
   "outputs": [],
   "source": [
    "import pandas as pd\n",
    "query = \"\"\"SELECT * FROM products as p LEFT JOIN categories as ct ON p.category_id = ct.category_id \n",
    "LEFT JOIN conditions as cd ON p.condition_id = cd.condition_id LEFT JOIN sellers as s ON p.seller_id = s.seller_id \n",
    "LEFT JOIN countries as co ON p.country_id = co.country_id\"\"\"\n",
    "\n",
    "ebay_products = pd.read_sql(query, connection)"
   ]
  },
  {
   "cell_type": "code",
   "execution_count": 3,
   "id": "material-alberta",
   "metadata": {
    "ExecuteTime": {
     "end_time": "2021-05-24T10:23:16.810891Z",
     "start_time": "2021-05-24T10:23:16.794249Z"
    }
   },
   "outputs": [],
   "source": [
    "connection.close()"
   ]
  },
  {
   "cell_type": "markdown",
   "id": "introductory-fountain",
   "metadata": {},
   "source": [
    "## Exploring the dataset"
   ]
  },
  {
   "cell_type": "code",
   "execution_count": 4,
   "id": "headed-orange",
   "metadata": {
    "ExecuteTime": {
     "end_time": "2021-05-24T10:23:16.862769Z",
     "start_time": "2021-05-24T10:23:16.818668Z"
    },
    "scrolled": true
   },
   "outputs": [
    {
     "data": {
      "text/html": [
       "<div>\n",
       "<style scoped>\n",
       "    .dataframe tbody tr th:only-of-type {\n",
       "        vertical-align: middle;\n",
       "    }\n",
       "\n",
       "    .dataframe tbody tr th {\n",
       "        vertical-align: top;\n",
       "    }\n",
       "\n",
       "    .dataframe thead th {\n",
       "        text-align: right;\n",
       "    }\n",
       "</style>\n",
       "<table border=\"1\" class=\"dataframe\">\n",
       "  <thead>\n",
       "    <tr style=\"text-align: right;\">\n",
       "      <th></th>\n",
       "      <th>product_id</th>\n",
       "      <th>seller_id</th>\n",
       "      <th>category_id</th>\n",
       "      <th>country_id</th>\n",
       "      <th>condition_id</th>\n",
       "      <th>product_name</th>\n",
       "      <th>product_price</th>\n",
       "      <th>shipping_fee</th>\n",
       "      <th>page_number</th>\n",
       "      <th>category_id</th>\n",
       "      <th>category</th>\n",
       "      <th>condition_id</th>\n",
       "      <th>product_condition</th>\n",
       "      <th>seller_id</th>\n",
       "      <th>seller_name</th>\n",
       "      <th>seller_feedback_score</th>\n",
       "      <th>country_id</th>\n",
       "      <th>origin_country</th>\n",
       "    </tr>\n",
       "  </thead>\n",
       "  <tbody>\n",
       "    <tr>\n",
       "      <th>0</th>\n",
       "      <td>1</td>\n",
       "      <td>1</td>\n",
       "      <td>1</td>\n",
       "      <td>1</td>\n",
       "      <td>1</td>\n",
       "      <td>Apple iPhone 12 Pro Max - 256gb - Unlocked - F...</td>\n",
       "      <td>4341.26</td>\n",
       "      <td>157.58</td>\n",
       "      <td>1</td>\n",
       "      <td>1</td>\n",
       "      <td>Cell Phones &amp; Accessories</td>\n",
       "      <td>1</td>\n",
       "      <td>New</td>\n",
       "      <td>1</td>\n",
       "      <td>alldayzip</td>\n",
       "      <td>32390</td>\n",
       "      <td>1</td>\n",
       "      <td>United States</td>\n",
       "    </tr>\n",
       "    <tr>\n",
       "      <th>1</th>\n",
       "      <td>2</td>\n",
       "      <td>2</td>\n",
       "      <td>1</td>\n",
       "      <td>1</td>\n",
       "      <td>2</td>\n",
       "      <td>Apple iPhone 12 Mini Smartphone 64 128 256GB A...</td>\n",
       "      <td>1834.76</td>\n",
       "      <td>106.84</td>\n",
       "      <td>1</td>\n",
       "      <td>1</td>\n",
       "      <td>Cell Phones &amp; Accessories</td>\n",
       "      <td>2</td>\n",
       "      <td>Seller refurbished</td>\n",
       "      <td>2</td>\n",
       "      <td>supplytronics</td>\n",
       "      <td>69441</td>\n",
       "      <td>1</td>\n",
       "      <td>United States</td>\n",
       "    </tr>\n",
       "    <tr>\n",
       "      <th>2</th>\n",
       "      <td>3</td>\n",
       "      <td>3</td>\n",
       "      <td>1</td>\n",
       "      <td>1</td>\n",
       "      <td>1</td>\n",
       "      <td>Apple iPhone 12 - 64GB / 128GB (UNLOCKED)  Fac...</td>\n",
       "      <td>2853.90</td>\n",
       "      <td>125.29</td>\n",
       "      <td>1</td>\n",
       "      <td>1</td>\n",
       "      <td>Cell Phones &amp; Accessories</td>\n",
       "      <td>1</td>\n",
       "      <td>New</td>\n",
       "      <td>3</td>\n",
       "      <td>santamonicawireless</td>\n",
       "      <td>22198</td>\n",
       "      <td>1</td>\n",
       "      <td>United States</td>\n",
       "    </tr>\n",
       "    <tr>\n",
       "      <th>3</th>\n",
       "      <td>4</td>\n",
       "      <td>1</td>\n",
       "      <td>1</td>\n",
       "      <td>1</td>\n",
       "      <td>1</td>\n",
       "      <td>Apple iPhone 12 Mini - 128gb - Unlocked - Fact...</td>\n",
       "      <td>2703.68</td>\n",
       "      <td>118.44</td>\n",
       "      <td>1</td>\n",
       "      <td>1</td>\n",
       "      <td>Cell Phones &amp; Accessories</td>\n",
       "      <td>1</td>\n",
       "      <td>New</td>\n",
       "      <td>1</td>\n",
       "      <td>alldayzip</td>\n",
       "      <td>32390</td>\n",
       "      <td>1</td>\n",
       "      <td>United States</td>\n",
       "    </tr>\n",
       "    <tr>\n",
       "      <th>4</th>\n",
       "      <td>5</td>\n",
       "      <td>5</td>\n",
       "      <td>1</td>\n",
       "      <td>5</td>\n",
       "      <td>1</td>\n",
       "      <td>Apple iPhone 12 Pro Max - 128GB - Pacific Blue</td>\n",
       "      <td>2282.42</td>\n",
       "      <td>23.05</td>\n",
       "      <td>1</td>\n",
       "      <td>1</td>\n",
       "      <td>Cell Phones &amp; Accessories</td>\n",
       "      <td>1</td>\n",
       "      <td>New</td>\n",
       "      <td>5</td>\n",
       "      <td>teall_37</td>\n",
       "      <td>0</td>\n",
       "      <td>5</td>\n",
       "      <td>Ukraine</td>\n",
       "    </tr>\n",
       "  </tbody>\n",
       "</table>\n",
       "</div>"
      ],
      "text/plain": [
       "   product_id  seller_id  category_id  country_id  condition_id  \\\n",
       "0           1          1            1           1             1   \n",
       "1           2          2            1           1             2   \n",
       "2           3          3            1           1             1   \n",
       "3           4          1            1           1             1   \n",
       "4           5          5            1           5             1   \n",
       "\n",
       "                                        product_name  product_price  \\\n",
       "0  Apple iPhone 12 Pro Max - 256gb - Unlocked - F...        4341.26   \n",
       "1  Apple iPhone 12 Mini Smartphone 64 128 256GB A...        1834.76   \n",
       "2  Apple iPhone 12 - 64GB / 128GB (UNLOCKED)  Fac...        2853.90   \n",
       "3  Apple iPhone 12 Mini - 128gb - Unlocked - Fact...        2703.68   \n",
       "4     Apple iPhone 12 Pro Max - 128GB - Pacific Blue        2282.42   \n",
       "\n",
       "   shipping_fee  page_number  category_id                   category  \\\n",
       "0        157.58            1            1  Cell Phones & Accessories   \n",
       "1        106.84            1            1  Cell Phones & Accessories   \n",
       "2        125.29            1            1  Cell Phones & Accessories   \n",
       "3        118.44            1            1  Cell Phones & Accessories   \n",
       "4         23.05            1            1  Cell Phones & Accessories   \n",
       "\n",
       "   condition_id   product_condition  seller_id          seller_name  \\\n",
       "0             1                 New          1            alldayzip   \n",
       "1             2  Seller refurbished          2        supplytronics   \n",
       "2             1                 New          3  santamonicawireless   \n",
       "3             1                 New          1            alldayzip   \n",
       "4             1                 New          5             teall_37   \n",
       "\n",
       "   seller_feedback_score  country_id origin_country  \n",
       "0                  32390           1  United States  \n",
       "1                  69441           1  United States  \n",
       "2                  22198           1  United States  \n",
       "3                  32390           1  United States  \n",
       "4                      0           5        Ukraine  "
      ]
     },
     "execution_count": 4,
     "metadata": {},
     "output_type": "execute_result"
    }
   ],
   "source": [
    "ebay_products.head()"
   ]
  },
  {
   "cell_type": "code",
   "execution_count": 5,
   "id": "constant-auction",
   "metadata": {
    "ExecuteTime": {
     "end_time": "2021-05-24T10:23:16.885099Z",
     "start_time": "2021-05-24T10:23:16.870922Z"
    }
   },
   "outputs": [
    {
     "data": {
      "text/plain": [
       "(8340, 18)"
      ]
     },
     "execution_count": 5,
     "metadata": {},
     "output_type": "execute_result"
    }
   ],
   "source": [
    "ebay_products.shape"
   ]
  },
  {
   "cell_type": "code",
   "execution_count": 6,
   "id": "attached-incentive",
   "metadata": {
    "ExecuteTime": {
     "end_time": "2021-05-24T10:23:17.041863Z",
     "start_time": "2021-05-24T10:23:16.895270Z"
    }
   },
   "outputs": [],
   "source": [
    "ebay_products.to_csv('raw_data.csv', index=False)"
   ]
  },
  {
   "cell_type": "markdown",
   "id": "bridal-stomach",
   "metadata": {},
   "source": [
    "### Remove unnecessary columns"
   ]
  },
  {
   "cell_type": "code",
   "execution_count": 7,
   "id": "tutorial-september",
   "metadata": {
    "ExecuteTime": {
     "end_time": "2021-05-24T10:23:17.056960Z",
     "start_time": "2021-05-24T10:23:17.047783Z"
    }
   },
   "outputs": [],
   "source": [
    "ebay_products.drop(['product_id', 'seller_id', 'category_id', 'seller_name', 'country_id', 'condition_id'], axis=1, inplace=True)"
   ]
  },
  {
   "cell_type": "markdown",
   "id": "grateful-creek",
   "metadata": {},
   "source": [
    "### Leave products from relevant categories only"
   ]
  },
  {
   "cell_type": "code",
   "execution_count": 8,
   "id": "loaded-cabin",
   "metadata": {
    "ExecuteTime": {
     "end_time": "2021-05-24T10:23:17.076987Z",
     "start_time": "2021-05-24T10:23:17.065525Z"
    }
   },
   "outputs": [],
   "source": [
    "categories = ['Cell Phones & Accessories', 'Computers/Tablets & Networking']\n",
    "ebay_products = ebay_products[ebay_products['category'].isin(categories)]"
   ]
  },
  {
   "cell_type": "code",
   "execution_count": 9,
   "id": "iraqi-mustang",
   "metadata": {
    "ExecuteTime": {
     "end_time": "2021-05-24T10:23:17.091717Z",
     "start_time": "2021-05-24T10:23:17.082730Z"
    }
   },
   "outputs": [
    {
     "data": {
      "text/plain": [
       "(8267, 8)"
      ]
     },
     "execution_count": 9,
     "metadata": {},
     "output_type": "execute_result"
    }
   ],
   "source": [
    "ebay_products.shape"
   ]
  },
  {
   "cell_type": "code",
   "execution_count": 10,
   "id": "civil-abuse",
   "metadata": {
    "ExecuteTime": {
     "end_time": "2021-05-24T10:23:17.118813Z",
     "start_time": "2021-05-24T10:23:17.096363Z"
    },
    "scrolled": false
   },
   "outputs": [
    {
     "data": {
      "text/html": [
       "<div>\n",
       "<style scoped>\n",
       "    .dataframe tbody tr th:only-of-type {\n",
       "        vertical-align: middle;\n",
       "    }\n",
       "\n",
       "    .dataframe tbody tr th {\n",
       "        vertical-align: top;\n",
       "    }\n",
       "\n",
       "    .dataframe thead th {\n",
       "        text-align: right;\n",
       "    }\n",
       "</style>\n",
       "<table border=\"1\" class=\"dataframe\">\n",
       "  <thead>\n",
       "    <tr style=\"text-align: right;\">\n",
       "      <th></th>\n",
       "      <th>product_name</th>\n",
       "      <th>product_price</th>\n",
       "      <th>shipping_fee</th>\n",
       "      <th>page_number</th>\n",
       "      <th>category</th>\n",
       "      <th>product_condition</th>\n",
       "      <th>seller_feedback_score</th>\n",
       "      <th>origin_country</th>\n",
       "    </tr>\n",
       "  </thead>\n",
       "  <tbody>\n",
       "    <tr>\n",
       "      <th>0</th>\n",
       "      <td>Apple iPhone 12 Pro Max - 256gb - Unlocked - F...</td>\n",
       "      <td>4341.26</td>\n",
       "      <td>157.58</td>\n",
       "      <td>1</td>\n",
       "      <td>Cell Phones &amp; Accessories</td>\n",
       "      <td>New</td>\n",
       "      <td>32390</td>\n",
       "      <td>United States</td>\n",
       "    </tr>\n",
       "    <tr>\n",
       "      <th>1</th>\n",
       "      <td>Apple iPhone 12 Mini Smartphone 64 128 256GB A...</td>\n",
       "      <td>1834.76</td>\n",
       "      <td>106.84</td>\n",
       "      <td>1</td>\n",
       "      <td>Cell Phones &amp; Accessories</td>\n",
       "      <td>Seller refurbished</td>\n",
       "      <td>69441</td>\n",
       "      <td>United States</td>\n",
       "    </tr>\n",
       "    <tr>\n",
       "      <th>2</th>\n",
       "      <td>Apple iPhone 12 - 64GB / 128GB (UNLOCKED)  Fac...</td>\n",
       "      <td>2853.90</td>\n",
       "      <td>125.29</td>\n",
       "      <td>1</td>\n",
       "      <td>Cell Phones &amp; Accessories</td>\n",
       "      <td>New</td>\n",
       "      <td>22198</td>\n",
       "      <td>United States</td>\n",
       "    </tr>\n",
       "    <tr>\n",
       "      <th>3</th>\n",
       "      <td>Apple iPhone 12 Mini - 128gb - Unlocked - Fact...</td>\n",
       "      <td>2703.68</td>\n",
       "      <td>118.44</td>\n",
       "      <td>1</td>\n",
       "      <td>Cell Phones &amp; Accessories</td>\n",
       "      <td>New</td>\n",
       "      <td>32390</td>\n",
       "      <td>United States</td>\n",
       "    </tr>\n",
       "    <tr>\n",
       "      <th>4</th>\n",
       "      <td>Apple iPhone 12 Pro Max - 128GB - Pacific Blue</td>\n",
       "      <td>2282.42</td>\n",
       "      <td>23.05</td>\n",
       "      <td>1</td>\n",
       "      <td>Cell Phones &amp; Accessories</td>\n",
       "      <td>New</td>\n",
       "      <td>0</td>\n",
       "      <td>Ukraine</td>\n",
       "    </tr>\n",
       "  </tbody>\n",
       "</table>\n",
       "</div>"
      ],
      "text/plain": [
       "                                        product_name  product_price  \\\n",
       "0  Apple iPhone 12 Pro Max - 256gb - Unlocked - F...        4341.26   \n",
       "1  Apple iPhone 12 Mini Smartphone 64 128 256GB A...        1834.76   \n",
       "2  Apple iPhone 12 - 64GB / 128GB (UNLOCKED)  Fac...        2853.90   \n",
       "3  Apple iPhone 12 Mini - 128gb - Unlocked - Fact...        2703.68   \n",
       "4     Apple iPhone 12 Pro Max - 128GB - Pacific Blue        2282.42   \n",
       "\n",
       "   shipping_fee  page_number                   category   product_condition  \\\n",
       "0        157.58            1  Cell Phones & Accessories                 New   \n",
       "1        106.84            1  Cell Phones & Accessories  Seller refurbished   \n",
       "2        125.29            1  Cell Phones & Accessories                 New   \n",
       "3        118.44            1  Cell Phones & Accessories                 New   \n",
       "4         23.05            1  Cell Phones & Accessories                 New   \n",
       "\n",
       "   seller_feedback_score origin_country  \n",
       "0                  32390  United States  \n",
       "1                  69441  United States  \n",
       "2                  22198  United States  \n",
       "3                  32390  United States  \n",
       "4                      0        Ukraine  "
      ]
     },
     "execution_count": 10,
     "metadata": {},
     "output_type": "execute_result"
    }
   ],
   "source": [
    "ebay_products.head()"
   ]
  },
  {
   "cell_type": "markdown",
   "id": "worth-honolulu",
   "metadata": {},
   "source": [
    "### Check for and deal with NAs"
   ]
  },
  {
   "cell_type": "code",
   "execution_count": 11,
   "id": "whole-picking",
   "metadata": {
    "ExecuteTime": {
     "end_time": "2021-05-24T10:23:17.132663Z",
     "start_time": "2021-05-24T10:23:17.122466Z"
    }
   },
   "outputs": [],
   "source": [
    "import numpy as np\n",
    "ebay_products = ebay_products.replace('NULL', np.nan)"
   ]
  },
  {
   "cell_type": "code",
   "execution_count": 12,
   "id": "psychological-tutorial",
   "metadata": {
    "ExecuteTime": {
     "end_time": "2021-05-24T10:23:17.153592Z",
     "start_time": "2021-05-24T10:23:17.136752Z"
    },
    "scrolled": false
   },
   "outputs": [
    {
     "data": {
      "text/plain": [
       "product_name               0\n",
       "product_price              0\n",
       "shipping_fee             404\n",
       "page_number                0\n",
       "category                   0\n",
       "product_condition          0\n",
       "seller_feedback_score      0\n",
       "origin_country             1\n",
       "dtype: int64"
      ]
     },
     "execution_count": 12,
     "metadata": {},
     "output_type": "execute_result"
    }
   ],
   "source": [
    "ebay_products.isna().sum()"
   ]
  },
  {
   "cell_type": "code",
   "execution_count": 13,
   "id": "lesser-indonesian",
   "metadata": {
    "ExecuteTime": {
     "end_time": "2021-05-24T10:23:17.228701Z",
     "start_time": "2021-05-24T10:23:17.157659Z"
    }
   },
   "outputs": [],
   "source": [
    "ebay_products.dropna(inplace=True)"
   ]
  },
  {
   "cell_type": "code",
   "execution_count": 14,
   "id": "systematic-capability",
   "metadata": {
    "ExecuteTime": {
     "end_time": "2021-05-24T10:23:17.245553Z",
     "start_time": "2021-05-24T10:23:17.234966Z"
    }
   },
   "outputs": [
    {
     "data": {
      "text/plain": [
       "(7863, 8)"
      ]
     },
     "execution_count": 14,
     "metadata": {},
     "output_type": "execute_result"
    }
   ],
   "source": [
    "ebay_products.shape"
   ]
  },
  {
   "cell_type": "code",
   "execution_count": 15,
   "id": "relevant-liquid",
   "metadata": {
    "ExecuteTime": {
     "end_time": "2021-05-24T10:23:17.287261Z",
     "start_time": "2021-05-24T10:23:17.251532Z"
    },
    "scrolled": true
   },
   "outputs": [
    {
     "name": "stdout",
     "output_type": "stream",
     "text": [
      "<class 'pandas.core.frame.DataFrame'>\n",
      "Int64Index: 7863 entries, 0 to 8339\n",
      "Data columns (total 8 columns):\n",
      " #   Column                 Non-Null Count  Dtype  \n",
      "---  ------                 --------------  -----  \n",
      " 0   product_name           7863 non-null   object \n",
      " 1   product_price          7863 non-null   float64\n",
      " 2   shipping_fee           7863 non-null   float64\n",
      " 3   page_number            7863 non-null   int64  \n",
      " 4   category               7863 non-null   object \n",
      " 5   product_condition      7863 non-null   object \n",
      " 6   seller_feedback_score  7863 non-null   int64  \n",
      " 7   origin_country         7863 non-null   object \n",
      "dtypes: float64(2), int64(2), object(4)\n",
      "memory usage: 552.9+ KB\n"
     ]
    }
   ],
   "source": [
    "ebay_products.info()"
   ]
  },
  {
   "cell_type": "markdown",
   "id": "mediterranean-arkansas",
   "metadata": {},
   "source": [
    "## Change ebay titles to uniform product names"
   ]
  },
  {
   "cell_type": "code",
   "execution_count": 16,
   "id": "judicial-lodge",
   "metadata": {
    "ExecuteTime": {
     "end_time": "2021-05-24T10:23:19.295388Z",
     "start_time": "2021-05-24T10:23:17.292197Z"
    }
   },
   "outputs": [],
   "source": [
    "ebay_products.loc[ebay_products['product_name'].str.contains(\"iphone 12\"), 'product_name'] = 'iphone 12'\n",
    "\n",
    "ebay_products.loc[ebay_products['product_name'].str.contains(\"iPhone 12\"), 'product_name'] = 'iphone 12'\n",
    "\n",
    "ebay_products.loc[ebay_products['product_name'].str.contains(\"IPHONE 12\"), 'product_name'] = 'iphone 12'\n",
    "\n",
    "ebay_products.loc[ebay_products['product_name'].str.contains(\"iphone 11\"), 'product_name'] = 'iphone 11'\n",
    "\n",
    "ebay_products.loc[ebay_products['product_name'].str.contains(\"iPhone 11\"), 'product_name'] = 'iphone 11'\n",
    "\n",
    "ebay_products.loc[ebay_products['product_name'].str.contains(\"IPHONE 11\"), 'product_name'] = 'iphone 11'\n",
    "\n",
    "ebay_products.loc[ebay_products['product_name'].str.contains(\"iphone x\"), 'product_name'] = 'iphone x'\n",
    "\n",
    "ebay_products.loc[ebay_products['product_name'].str.contains(\"iphone X\"), 'product_name'] = 'iphone x'\n",
    "\n",
    "ebay_products.loc[ebay_products['product_name'].str.contains(\"iPhone x\"), 'product_name'] = 'iphone x'\n",
    "\n",
    "ebay_products.loc[ebay_products['product_name'].str.contains(\"IPHONE X\"), 'product_name'] = 'iphone x'\n",
    "\n",
    "ebay_products.loc[ebay_products['product_name'].str.contains(\"iPhone X\"), 'product_name'] = 'iphone x'\n",
    "\n",
    "ebay_products.loc[ebay_products['product_name'].str.contains(\"galaxy s20\"), 'product_name'] = 'galaxy s20'\n",
    "\n",
    "ebay_products.loc[ebay_products['product_name'].str.contains(\"Galaxy S20\"), 'product_name'] = 'galaxy s20'\n",
    "\n",
    "ebay_products.loc[ebay_products['product_name'].str.contains(\"GALAXY S20\"), 'product_name'] = 'galaxy s20'\n",
    "\n",
    "ebay_products.loc[ebay_products['product_name'].str.contains(\"Galaxy s21\"), 'product_name'] = 'galaxy s21'\n",
    "\n",
    "ebay_products.loc[ebay_products['product_name'].str.contains(\"galaxy s21\"), 'product_name'] = 'galaxy s21'\n",
    "\n",
    "ebay_products.loc[ebay_products['product_name'].str.contains(\"galaxy S21\"), 'product_name'] = 'galaxy s21'\n",
    "\n",
    "ebay_products.loc[ebay_products['product_name'].str.contains(\"Galaxy S21\"), 'product_name'] = 'galaxy s21'\n",
    "\n",
    "ebay_products.loc[ebay_products['product_name'].str.contains(\"GALAXY S21\"), 'product_name'] = 'galaxy s21'\n",
    "\n",
    "ebay_products.loc[ebay_products['product_name'].str.contains(\"galaxy s10\"), 'product_name'] = 'galaxy s10'\n",
    "\n",
    "ebay_products.loc[ebay_products['product_name'].str.contains(\"Galaxy S10\"), 'product_name'] = 'galaxy s10'\n",
    "\n",
    "ebay_products.loc[ebay_products['product_name'].str.contains(\"GALAXY S10\"), 'product_name'] = 'galaxy s10'\n",
    "\n",
    "ebay_products.loc[ebay_products['product_name'].str.contains(\"Huawei P30\"), 'product_name'] = 'huawei p30'\n",
    "\n",
    "ebay_products.loc[ebay_products['product_name'].str.contains(\"Huawei p30\"), 'product_name'] = 'huawei p30'\n",
    "\n",
    "ebay_products.loc[ebay_products['product_name'].str.contains(\"huawei p30\"), 'product_name'] = 'huawei p30'\n",
    "\n",
    "ebay_products.loc[ebay_products['product_name'].str.contains(\"HUAWEI P30\"), 'product_name'] = 'huawei p30'\n",
    "\n",
    "ebay_products.loc[ebay_products['product_name'].str.contains(\"Huawei P40\"), 'product_name'] = 'huawei p40'\n",
    "\n",
    "ebay_products.loc[ebay_products['product_name'].str.contains(\"Huawei p40\"), 'product_name'] = 'huawei p40'\n",
    "\n",
    "ebay_products.loc[ebay_products['product_name'].str.contains(\"Huawei p40\"), 'product_name'] = 'huawei p40'\n",
    "\n",
    "ebay_products.loc[ebay_products['product_name'].str.contains(\"HUAWEI P40\"), 'product_name'] = 'huawei p40'\n",
    "\n",
    "ebay_products.loc[ebay_products['product_name'].str.contains(\"Macbook Air\"), 'product_name'] = 'macbook air'\n",
    "\n",
    "ebay_products.loc[ebay_products['product_name'].str.contains(\"macbook air\"), 'product_name'] = 'macbook air'\n",
    "\n",
    "ebay_products.loc[ebay_products['product_name'].str.contains(\"Macbook air\"), 'product_name'] = 'macbook air'\n",
    "\n",
    "ebay_products.loc[ebay_products['product_name'].str.contains(\"MacBook Air\"), 'product_name'] = 'macbook air'\n",
    "\n",
    "ebay_products.loc[ebay_products['product_name'].str.contains(\"MACBOOK AIR\"), 'product_name'] = 'macbook air'\n",
    "\n",
    "ebay_products.loc[ebay_products['product_name'].str.contains(\"macbook pro\"), 'product_name'] = 'macbook pro'\n",
    "\n",
    "ebay_products.loc[ebay_products['product_name'].str.contains(\"Macbook pro\"), 'product_name'] = 'macbook pro'\n",
    "\n",
    "ebay_products.loc[ebay_products['product_name'].str.contains(\"Macbook Pro\"), 'product_name'] = 'macbook pro'\n",
    "\n",
    "ebay_products.loc[ebay_products['product_name'].str.contains(\"MacBook Pro\"), 'product_name'] = 'macbook pro'\n",
    "\n",
    "ebay_products.loc[ebay_products['product_name'].str.contains(\"MACBOOK PRO\"), 'product_name'] = 'macbook pro'\n",
    "\n",
    "ebay_products.loc[ebay_products['product_name'].str.contains(\"Asus ZenBook\"), 'product_name'] = 'asus zenbook'\n",
    "\n",
    "ebay_products.loc[ebay_products['product_name'].str.contains(\"ZenBook\"), 'product_name'] = 'asus zenbook'\n",
    "\n",
    "ebay_products.loc[ebay_products['product_name'].str.contains(\"Zenbook\"), 'product_name'] = 'asus zenbook'\n",
    "\n",
    "ebay_products.loc[ebay_products['product_name'].str.contains(\"ZENBOOK\"), 'product_name'] = 'asus zenbook'\n",
    "\n",
    "ebay_products.loc[ebay_products['product_name'].str.contains(\"galaxy book\"), 'product_name'] = 'galaxy book'\n",
    "\n",
    "ebay_products.loc[ebay_products['product_name'].str.contains(\"Galaxy book\"), 'product_name'] = 'galaxy book'\n",
    "\n",
    "ebay_products.loc[ebay_products['product_name'].str.contains(\"Galaxy Book\"), 'product_name'] = 'galaxy book'\n",
    "\n",
    "ebay_products.loc[ebay_products['product_name'].str.contains(\"GalaxyBook\"), 'product_name'] = 'galaxy book'\n",
    "\n",
    "ebay_products.loc[ebay_products['product_name'].str.contains(\"GALAXYBOOK\"), 'product_name'] = 'galaxy book'\n",
    "\n",
    "ebay_products.loc[ebay_products['product_name'].str.contains(\"galaxybook\"), 'product_name'] = 'galaxy book'\n",
    "\n",
    "ebay_products.loc[ebay_products['product_name'].str.contains(\"GALAXY BOOK\"), 'product_name'] = 'galaxy book'\n",
    "\n",
    "ebay_products.loc[ebay_products['product_name'].str.contains(\"Vivobook\"), 'product_name'] = 'asus vivobook'\n",
    "\n",
    "ebay_products.loc[ebay_products['product_name'].str.contains(\"VivoBook\"), 'product_name'] = 'asus vivobook'\n",
    "\n",
    "ebay_products.loc[ebay_products['product_name'].str.contains(\"VIVOBOOK\"), 'product_name'] = 'asus vivobook'\n",
    "\n",
    "ebay_products.loc[ebay_products['product_name'].str.contains(\"thinkpad\"), 'product_name'] = 'lenovo thinkpad'\n",
    "\n",
    "ebay_products.loc[ebay_products['product_name'].str.contains(\"Thinkpad\"), 'product_name'] = 'lenovo thinkpad'\n",
    "\n",
    "ebay_products.loc[ebay_products['product_name'].str.contains(\"ThinkPad\"), 'product_name'] = 'lenovo thinkpad'\n",
    "\n",
    "ebay_products.loc[ebay_products['product_name'].str.contains(\"THINKPAD\"), 'product_name'] = 'lenovo thinkpad'\n",
    "\n",
    "ebay_products.loc[ebay_products['product_name'].str.contains(\"ideapad\"), 'product_name'] = 'lenovo ideapad'\n",
    "\n",
    "ebay_products.loc[ebay_products['product_name'].str.contains(\"Ideapad\"), 'product_name'] = 'lenovo ideapad'\n",
    "\n",
    "ebay_products.loc[ebay_products['product_name'].str.contains(\"IdeaPad\"), 'product_name'] = 'lenovo ideapad'\n",
    "\n",
    "ebay_products.loc[ebay_products['product_name'].str.contains(\"IDEAPAD\"), 'product_name'] = 'lenovo ideapad'\n",
    "\n",
    "ebay_products.loc[ebay_products['product_name'].str.contains(\"thinkbook\"), 'product_name'] = 'lenovo thinkbook'\n",
    "\n",
    "ebay_products.loc[ebay_products['product_name'].str.contains(\"ThinkBook\"), 'product_name'] = 'lenovo thinkbook'\n",
    "\n",
    "ebay_products.loc[ebay_products['product_name'].str.contains(\"Thinkbook\"), 'product_name'] = 'lenovo thinkbook'\n",
    "\n",
    "ebay_products.loc[ebay_products['product_name'].str.contains(\"THINKBOOK\"), 'product_name'] = 'lenovo thinkbook'\n",
    "\n",
    "ebay_products.loc[ebay_products['product_name'].str.contains(\"latitude\"), 'product_name'] = 'dell latitude'\n",
    "\n",
    "ebay_products.loc[ebay_products['product_name'].str.contains(\"Latitude\"), 'product_name'] = 'dell latitude'\n",
    "\n",
    "ebay_products.loc[ebay_products['product_name'].str.contains(\"LATITUDE\"), 'product_name'] = 'dell latitude'\n",
    "\n",
    "ebay_products.loc[ebay_products['product_name'].str.contains(\"Redmibook\"), 'product_name'] = 'xiaomi redmibook'\n",
    "\n",
    "ebay_products.loc[ebay_products['product_name'].str.contains(\"RedmiBook\"), 'product_name'] = 'xiaomi redmibook'\n",
    "\n",
    "ebay_products.loc[ebay_products['product_name'].str.contains(\"REDMIBOOK\"), 'product_name'] = 'xiaomi redmibook'\n",
    "\n",
    "ebay_products.loc[ebay_products['product_name'].str.contains(\"matebook\"), 'product_name'] = 'huawei matebook'\n",
    "\n",
    "ebay_products.loc[ebay_products['product_name'].str.contains(\"Matebook\"), 'product_name'] = 'huawei matebook'\n",
    "\n",
    "ebay_products.loc[ebay_products['product_name'].str.contains(\"MateBook\"), 'product_name'] = 'huawei matebook'\n",
    "\n",
    "ebay_products.loc[ebay_products['product_name'].str.contains(\"MATEBOOK\"), 'product_name'] = 'huawei matebook'\n",
    "\n",
    "ebay_products.loc[ebay_products['product_name'].str.contains(\"Mi 10\"), 'product_name'] = 'xiaomi mi 10'\n",
    "\n",
    "ebay_products.loc[ebay_products['product_name'].str.contains(\"mi 10\"), 'product_name'] = 'xiaomi mi 10'\n",
    "\n",
    "ebay_products.loc[ebay_products['product_name'].str.contains(\"MI 10\"), 'product_name'] = 'xiaomi mi 10'\n",
    "\n",
    "ebay_products.loc[ebay_products['product_name'].str.contains(\"mi 11\"), 'product_name'] = 'xiaomi mi 11'\n",
    "\n",
    "ebay_products.loc[ebay_products['product_name'].str.contains(\"Mi 11\"), 'product_name'] = 'xiaomi mi 11'\n",
    "\n",
    "ebay_products.loc[ebay_products['product_name'].str.contains(\"MI 11\"), 'product_name'] = 'xiaomi mi 11'\n",
    "\n",
    "ebay_products.loc[ebay_products['product_name'].str.contains(\"ipad air\"), 'product_name'] = 'ipad air'\n",
    "\n",
    "ebay_products.loc[ebay_products['product_name'].str.contains(\"iPad Air\"), 'product_name'] = 'ipad air'\n",
    "\n",
    "ebay_products.loc[ebay_products['product_name'].str.contains(\"IPAD AIR\"), 'product_name'] = 'ipad air'\n",
    "\n",
    "ebay_products.loc[ebay_products['product_name'].str.contains(\"iPad Pro\"), 'product_name'] = 'ipad pro'\n",
    "\n",
    "ebay_products.loc[ebay_products['product_name'].str.contains(\"IPAD PRO\"), 'product_name'] = 'ipad pro'\n",
    "\n",
    "ebay_products.loc[ebay_products['product_name'].str.contains(\"galaxy tab\"), 'product_name'] = 'galaxy tab'\n",
    "\n",
    "ebay_products.loc[ebay_products['product_name'].str.contains(\"Galaxy Tab\"), 'product_name'] = 'galaxy tab'\n",
    "\n",
    "ebay_products.loc[ebay_products['product_name'].str.contains(\"GALAXY TAB\"), 'product_name'] = 'galaxy tab'\n",
    "\n",
    "ebay_products.loc[ebay_products['product_name'].str.contains(\"lenovo tab\"), 'product_name'] = 'lenovo tab'\n",
    "\n",
    "ebay_products.loc[ebay_products['product_name'].str.contains(\"Lenovo tab\"), 'product_name'] = 'lenovo tab'\n",
    "\n",
    "ebay_products.loc[ebay_products['product_name'].str.contains(\"Lenovo Tab\"), 'product_name'] = 'lenovo tab'\n",
    "\n",
    "ebay_products.loc[ebay_products['product_name'].str.contains(\"LENOVO TAB\"), 'product_name'] = 'lenovo tab'\n",
    "\n",
    "ebay_products.loc[ebay_products['product_name'].str.contains(\"Mediapad\"), 'product_name'] = 'huawei mediapad'\n",
    "\n",
    "ebay_products.loc[ebay_products['product_name'].str.contains(\"MediaPad\"), 'product_name'] = 'huawei mediapad'\n",
    "\n",
    "ebay_products.loc[ebay_products['product_name'].str.contains(\"Media Pad\"), 'product_name'] = 'huawei mediapad'\n",
    "\n",
    "ebay_products.loc[ebay_products['product_name'].str.contains(\"MEDIA PAD\"), 'product_name'] = 'huawei mediapad'\n",
    "\n",
    "ebay_products.loc[ebay_products['product_name'].str.contains(\"dell vostro\"), 'product_name'] = 'dell vostro'\n",
    "\n",
    "ebay_products.loc[ebay_products['product_name'].str.contains(\"Dell Vostro\"), 'product_name'] = 'dell vostro'\n",
    "\n",
    "ebay_products.loc[ebay_products['product_name'].str.contains(\"DELL VOSTRO\"), 'product_name'] = 'dell vostro'\n",
    "\n",
    "ebay_products.loc[ebay_products['product_name'].str.contains(\"oneplus nord\"), 'product_name'] = 'oneplus nord'\n",
    "\n",
    "ebay_products.loc[ebay_products['product_name'].str.contains(\"OnePlus Nord\"), 'product_name'] = 'oneplus nord'\n",
    "\n",
    "ebay_products.loc[ebay_products['product_name'].str.contains(\"ONEPLUS NORD\"), 'product_name'] = 'oneplus nord'\n",
    "\n",
    "ebay_products.loc[ebay_products['product_name'].str.contains(\"oneplus 8 pro\"), 'product_name'] = 'oneplus 8 pro'\n",
    "\n",
    "ebay_products.loc[ebay_products['product_name'].str.contains(\"oneplus 8\"), 'product_name'] = 'oneplus 8 pro'\n",
    "\n",
    "ebay_products.loc[ebay_products['product_name'].str.contains(\"OnePlus 8 Pro\"), 'product_name'] = 'oneplus 8  pro'\n",
    "\n",
    "ebay_products.loc[ebay_products['product_name'].str.contains(\"ONEPLUS 8 PRO\"), 'product_name'] = 'oneplus 8  pro'\n",
    "\n",
    "ebay_products.loc[ebay_products['product_name'].str.contains(\"OnePlus 8 pro\"), 'product_name'] = 'oneplus 8  pro'\n",
    "\n",
    "ebay_products.loc[ebay_products['product_name'].str.contains(\"OnePlus 8\"), 'product_name'] = 'oneplus 8 pro'\n",
    "\n",
    "ebay_products.loc[ebay_products['product_name'].str.contains(\"ONEPLUS 8\"), 'product_name'] = 'oneplus 8 pro'\n",
    "\n",
    "ebay_products.loc[ebay_products['product_name'].str.contains(\"/ 8 Pro\"), 'product_name'] = 'oneplus 8 pro'\n",
    "\n",
    "ebay_products.loc[ebay_products['product_name'].str.contains(\"Oneplus 8 Pro\"), 'product_name'] = 'oneplus 8 pro'\n",
    "\n",
    "ebay_products.loc[ebay_products['product_name'].str.contains(\"strix scar\"), 'product_name'] = 'asus rog strix scar'\n",
    "\n",
    "ebay_products.loc[ebay_products['product_name'].str.contains(\"Strix Scar\"), 'product_name'] = 'asus rog strix scar'\n",
    "\n",
    "ebay_products.loc[ebay_products['product_name'].str.contains(\"STRIX SCAR\"), 'product_name'] = 'asus rog strix scar'\n",
    "\n",
    "ebay_products.loc[ebay_products['product_name'].str.contains(\"Strix\"), 'product_name'] = 'asus rog strix scar'\n",
    "\n",
    "ebay_products.loc[ebay_products['product_name'].str.contains(\"STRIX\"), 'product_name'] = 'asus rog strix scar'\n",
    "\n",
    "ebay_products.loc[ebay_products['product_name'].str.contains(\"Oneplus Nord\"), 'product_name'] = 'oneplus nord'\n",
    "\n",
    "ebay_products.loc[ebay_products['product_name'].str.contains(\"OnePlus NORD\"), 'product_name'] = 'oneplus nord'\n",
    "\n",
    "ebay_products.loc[ebay_products['product_name'].str.contains(\"dell xps\"), 'product_name'] = 'dell xps'\n",
    "\n",
    "ebay_products.loc[ebay_products['product_name'].str.contains(\"Dell xps\"), 'product_name'] = 'dell xps'\n",
    "\n",
    "ebay_products.loc[ebay_products['product_name'].str.contains(\"Dell XPS\"), 'product_name'] = 'dell xps'\n",
    "\n",
    "ebay_products.loc[ebay_products['product_name'].str.contains(\"DELL XPS\"), 'product_name'] = 'dell xps'\n",
    "\n",
    "ebay_products.loc[ebay_products['product_name'].str.contains(\"zephyrus\"), 'product_name'] = 'asus zephyrus'\n",
    "\n",
    "ebay_products.loc[ebay_products['product_name'].str.contains(\"Zephyrus\"), 'product_name'] = 'asus zephyrus'\n",
    "\n",
    "ebay_products.loc[ebay_products['product_name'].str.contains(\"ZEPHYRUS\"), 'product_name'] = 'asus zephyrus'\n",
    "\n",
    "ebay_products.loc[ebay_products['product_name'].str.contains(\"dell precision\"), 'product_name'] = 'dell precision'\n",
    "\n",
    "ebay_products.loc[ebay_products['product_name'].str.contains(\"Dell Precision\"), 'product_name'] = 'dell precision'\n",
    "\n",
    "ebay_products.loc[ebay_products['product_name'].str.contains(\"DELL PRECISION\"), 'product_name'] = 'dell precision'\n",
    "\n",
    "ebay_products.loc[ebay_products['product_name'].str.contains(\"hp zbook\"), 'product_name'] = 'hp zbook'\n",
    "\n",
    "ebay_products.loc[ebay_products['product_name'].str.contains(\"HP Zbook\"), 'product_name'] = 'hp zbook'\n",
    "\n",
    "ebay_products.loc[ebay_products['product_name'].str.contains(\"HP ZBook\"), 'product_name'] = 'hp zbook'\n",
    "\n",
    "ebay_products.loc[ebay_products['product_name'].str.contains(\"HP ZBOOK\"), 'product_name'] = 'hp zbook'\n",
    "\n",
    "ebay_products.loc[ebay_products['product_name'].str.contains(\"hp Zbook\"), 'product_name'] = 'hp zbook'\n",
    "\n",
    "ebay_products.loc[ebay_products['product_name'].str.contains(\"hp ZBook\"), 'product_name'] = 'hp zbook'\n",
    "\n",
    "ebay_products.loc[ebay_products['product_name'].str.contains(\"gigabyte\"), 'product_name'] = 'gigabyte aero'\n",
    "\n",
    "ebay_products.loc[ebay_products['product_name'].str.contains(\"Gigabyte\"), 'product_name'] = 'gigabyte aero'\n",
    "\n",
    "ebay_products.loc[ebay_products['product_name'].str.contains(\"GIGABYTE\"), 'product_name'] = 'gigabyte aero'"
   ]
  },
  {
   "cell_type": "markdown",
   "id": "multiple-acrobat",
   "metadata": {},
   "source": [
    "## Filter unidentified products"
   ]
  },
  {
   "cell_type": "code",
   "execution_count": 17,
   "id": "finite-version",
   "metadata": {
    "ExecuteTime": {
     "end_time": "2021-05-24T10:23:19.465579Z",
     "start_time": "2021-05-24T10:23:19.457152Z"
    }
   },
   "outputs": [],
   "source": [
    "models = ['huawei mediapad', 'lenovo tab', 'galaxy tab', 'ipad pro', 'ipad air', 'iphone x', 'xiaomi mi 11', 'xiaomi mi 10', 'galaxy s10', 'huawei matebook', 'xiaomi redmibook', 'dell latitude', 'lenovo thinkbook', 'lenovo ideapad', 'lenovo thinkpad', 'asus vivobook', 'galaxy book', 'asus zenbook', 'macbook pro', 'macbook air', 'huawei p40', 'huawei p30', 'galaxy s21', 'galaxy s20', 'iphone 11', 'iphone 12', 'dell vostro', 'oneplus nord', 'oneplus 8 pro', 'dell xps', 'asus zephyrus', 'dell precision', 'hp zbook', 'asus rog strix scar', 'gigabyte aero', 'realme 7']\n"
   ]
  },
  {
   "cell_type": "code",
   "execution_count": 18,
   "id": "renewable-protection",
   "metadata": {
    "ExecuteTime": {
     "end_time": "2021-05-24T10:23:19.485370Z",
     "start_time": "2021-05-24T10:23:19.473704Z"
    }
   },
   "outputs": [],
   "source": [
    "ebay_products2 = ebay_products[ebay_products['product_name'].isin(models)]"
   ]
  },
  {
   "cell_type": "code",
   "execution_count": 19,
   "id": "awful-seeker",
   "metadata": {
    "ExecuteTime": {
     "end_time": "2021-05-24T10:23:19.502368Z",
     "start_time": "2021-05-24T10:23:19.489590Z"
    }
   },
   "outputs": [
    {
     "data": {
      "text/plain": [
       "(6476, 8)"
      ]
     },
     "execution_count": 19,
     "metadata": {},
     "output_type": "execute_result"
    }
   ],
   "source": [
    "ebay_products2.shape"
   ]
  },
  {
   "cell_type": "markdown",
   "id": "hidden-insight",
   "metadata": {},
   "source": [
    "## Create a new feature - 'Manufacturer' (manufacturing company)"
   ]
  },
  {
   "cell_type": "code",
   "execution_count": 20,
   "id": "interpreted-exemption",
   "metadata": {
    "ExecuteTime": {
     "end_time": "2021-05-24T10:23:19.938966Z",
     "start_time": "2021-05-24T10:23:19.509992Z"
    },
    "scrolled": false
   },
   "outputs": [
    {
     "name": "stderr",
     "output_type": "stream",
     "text": [
      "/opt/anaconda3/lib/python3.7/site-packages/ipykernel_launcher.py:9: SettingWithCopyWarning: \n",
      "A value is trying to be set on a copy of a slice from a DataFrame.\n",
      "Try using .loc[row_indexer,col_indexer] = value instead\n",
      "\n",
      "See the caveats in the documentation: https://pandas.pydata.org/pandas-docs/stable/user_guide/indexing.html#returning-a-view-versus-a-copy\n",
      "  if __name__ == '__main__':\n"
     ]
    }
   ],
   "source": [
    "manufacturer = []\n",
    "models = np.array(['huawei mediapad', 'lenovo tab', 'galaxy tab', 'ipad pro', 'ipad air', 'iphone x', 'xiaomi mi 11', 'xiaomi mi 10', 'galaxy s10', 'huawei matebook', 'xiaomi redmibook', 'dell latitude', 'lenovo thinkbook', 'lenovo ideapad', 'lenovo thinkpad', 'asus vivobook', 'galaxy book', 'asus zenbook', 'macbook pro', 'macbook air', 'huawei p40', 'huawei p30', 'galaxy s21', 'galaxy s20', 'iphone 11', 'iphone 12', 'dell vostro', 'oneplus nord', 'oneplus 8 pro', 'dell xps', 'asus zephyrus', 'dell precision', 'hp zbook', 'asus rog strix scar', 'gigabyte aero', 'realme 7'])\n",
    "manufact = np.array(['huawei', 'lenovo', 'samsung', 'apple', 'apple', 'apple', 'xiaomi', 'xiaomi', 'samsung', 'huawei', 'xiaomi', 'dell', 'lenovo', 'lenovo', 'lenovo', 'asus', 'samsung', 'asus', 'apple', 'apple', 'huawei', 'huawei', 'samsung', 'samsung', 'apple', 'apple', 'dell', 'oneplus', 'oneplus', 'dell', 'asus', 'dell', 'hp', 'asus', 'gigabyte', 'realme'])\n",
    "\n",
    "for prod in ebay_products2.loc[:,'product_name']:\n",
    "    prod_loc = np.argwhere(models==prod)\n",
    "    m = np.take(manufact, prod_loc[0][0])\n",
    "    manufacturer.append(m)\n",
    "ebay_products2['manufacturer'] = manufacturer"
   ]
  },
  {
   "cell_type": "markdown",
   "id": "thrown-sleeping",
   "metadata": {},
   "source": [
    "## Change the category feature so it will be splitted into 3: Smartphones, Tablets, and Computers"
   ]
  },
  {
   "cell_type": "code",
   "execution_count": 21,
   "id": "contemporary-scale",
   "metadata": {
    "ExecuteTime": {
     "end_time": "2021-05-24T10:23:19.965754Z",
     "start_time": "2021-05-24T10:23:19.944572Z"
    }
   },
   "outputs": [
    {
     "name": "stderr",
     "output_type": "stream",
     "text": [
      "/opt/anaconda3/lib/python3.7/site-packages/pandas/core/frame.py:4315: SettingWithCopyWarning: \n",
      "A value is trying to be set on a copy of a slice from a DataFrame\n",
      "\n",
      "See the caveats in the documentation: https://pandas.pydata.org/pandas-docs/stable/user_guide/indexing.html#returning-a-view-versus-a-copy\n",
      "  errors=errors,\n"
     ]
    }
   ],
   "source": [
    "ebay_products2.drop(['category'], axis=1, inplace=True)"
   ]
  },
  {
   "cell_type": "code",
   "execution_count": 22,
   "id": "studied-deadline",
   "metadata": {
    "ExecuteTime": {
     "end_time": "2021-05-24T10:23:20.232783Z",
     "start_time": "2021-05-24T10:23:19.973091Z"
    },
    "scrolled": true
   },
   "outputs": [
    {
     "name": "stderr",
     "output_type": "stream",
     "text": [
      "/opt/anaconda3/lib/python3.7/site-packages/ipykernel_launcher.py:8: SettingWithCopyWarning: \n",
      "A value is trying to be set on a copy of a slice from a DataFrame.\n",
      "Try using .loc[row_indexer,col_indexer] = value instead\n",
      "\n",
      "See the caveats in the documentation: https://pandas.pydata.org/pandas-docs/stable/user_guide/indexing.html#returning-a-view-versus-a-copy\n",
      "  \n"
     ]
    }
   ],
   "source": [
    "new_cats = np.array(['Tablets', 'Tablets', 'Tablets', 'Tablets', 'Tablets', 'Smartphones', 'Smartphones', 'Smartphones', 'Smartphones', 'Computers', 'Computers', 'Tablets', 'Computers', 'Computers', 'Computers', 'Computers', 'Computers', 'Computers', 'Computers', 'Computers', 'Smartphones', 'Smartphones', 'Smartphones', 'Smartphones', 'Smartphones', 'Smartphones', 'Computers', 'Smartphones', 'Smartphones', 'Computers', 'Computers', 'Computers', 'Computers', 'Computers', 'Computers', 'Smartphones'])\n",
    "\n",
    "cats = []\n",
    "for prod in ebay_products2.loc[:,'product_name']:\n",
    "    prod_loc = np.argwhere(models==prod)\n",
    "    ca = np.take(new_cats, prod_loc[0][0])\n",
    "    cats.append(ca)\n",
    "ebay_products2['category'] = cats\n"
   ]
  },
  {
   "cell_type": "code",
   "execution_count": 23,
   "id": "wound-pacific",
   "metadata": {
    "ExecuteTime": {
     "end_time": "2021-05-24T10:23:20.264110Z",
     "start_time": "2021-05-24T10:23:20.249970Z"
    }
   },
   "outputs": [
    {
     "data": {
      "text/plain": [
       "Computers      2845\n",
       "Smartphones    2524\n",
       "Tablets        1107\n",
       "Name: category, dtype: int64"
      ]
     },
     "execution_count": 23,
     "metadata": {},
     "output_type": "execute_result"
    }
   ],
   "source": [
    "ebay_products2['category'].value_counts()"
   ]
  },
  {
   "cell_type": "code",
   "execution_count": 24,
   "id": "sunrise-visit",
   "metadata": {
    "ExecuteTime": {
     "end_time": "2021-05-24T10:23:20.289537Z",
     "start_time": "2021-05-24T10:23:20.273318Z"
    },
    "scrolled": true
   },
   "outputs": [
    {
     "data": {
      "text/plain": [
       "apple       1644\n",
       "samsung     1060\n",
       "lenovo       878\n",
       "huawei       757\n",
       "dell         741\n",
       "asus         608\n",
       "xiaomi       403\n",
       "oneplus      237\n",
       "hp           108\n",
       "gigabyte      40\n",
       "Name: manufacturer, dtype: int64"
      ]
     },
     "execution_count": 24,
     "metadata": {},
     "output_type": "execute_result"
    }
   ],
   "source": [
    "ebay_products2['manufacturer'].value_counts()"
   ]
  },
  {
   "cell_type": "code",
   "execution_count": 25,
   "id": "destroyed-agency",
   "metadata": {
    "ExecuteTime": {
     "end_time": "2021-05-24T10:23:20.323040Z",
     "start_time": "2021-05-24T10:23:20.295482Z"
    },
    "scrolled": false
   },
   "outputs": [
    {
     "data": {
      "text/html": [
       "<div>\n",
       "<style scoped>\n",
       "    .dataframe tbody tr th:only-of-type {\n",
       "        vertical-align: middle;\n",
       "    }\n",
       "\n",
       "    .dataframe tbody tr th {\n",
       "        vertical-align: top;\n",
       "    }\n",
       "\n",
       "    .dataframe thead th {\n",
       "        text-align: right;\n",
       "    }\n",
       "</style>\n",
       "<table border=\"1\" class=\"dataframe\">\n",
       "  <thead>\n",
       "    <tr style=\"text-align: right;\">\n",
       "      <th></th>\n",
       "      <th>product_name</th>\n",
       "      <th>product_price</th>\n",
       "      <th>shipping_fee</th>\n",
       "      <th>page_number</th>\n",
       "      <th>product_condition</th>\n",
       "      <th>seller_feedback_score</th>\n",
       "      <th>origin_country</th>\n",
       "      <th>manufacturer</th>\n",
       "      <th>category</th>\n",
       "    </tr>\n",
       "  </thead>\n",
       "  <tbody>\n",
       "    <tr>\n",
       "      <th>0</th>\n",
       "      <td>iphone 12</td>\n",
       "      <td>4341.26</td>\n",
       "      <td>157.58</td>\n",
       "      <td>1</td>\n",
       "      <td>New</td>\n",
       "      <td>32390</td>\n",
       "      <td>United States</td>\n",
       "      <td>apple</td>\n",
       "      <td>Smartphones</td>\n",
       "    </tr>\n",
       "    <tr>\n",
       "      <th>1</th>\n",
       "      <td>iphone 12</td>\n",
       "      <td>1834.76</td>\n",
       "      <td>106.84</td>\n",
       "      <td>1</td>\n",
       "      <td>Seller refurbished</td>\n",
       "      <td>69441</td>\n",
       "      <td>United States</td>\n",
       "      <td>apple</td>\n",
       "      <td>Smartphones</td>\n",
       "    </tr>\n",
       "    <tr>\n",
       "      <th>2</th>\n",
       "      <td>iphone 12</td>\n",
       "      <td>2853.90</td>\n",
       "      <td>125.29</td>\n",
       "      <td>1</td>\n",
       "      <td>New</td>\n",
       "      <td>22198</td>\n",
       "      <td>United States</td>\n",
       "      <td>apple</td>\n",
       "      <td>Smartphones</td>\n",
       "    </tr>\n",
       "    <tr>\n",
       "      <th>3</th>\n",
       "      <td>iphone 12</td>\n",
       "      <td>2703.68</td>\n",
       "      <td>118.44</td>\n",
       "      <td>1</td>\n",
       "      <td>New</td>\n",
       "      <td>32390</td>\n",
       "      <td>United States</td>\n",
       "      <td>apple</td>\n",
       "      <td>Smartphones</td>\n",
       "    </tr>\n",
       "    <tr>\n",
       "      <th>4</th>\n",
       "      <td>iphone 12</td>\n",
       "      <td>2282.42</td>\n",
       "      <td>23.05</td>\n",
       "      <td>1</td>\n",
       "      <td>New</td>\n",
       "      <td>0</td>\n",
       "      <td>Ukraine</td>\n",
       "      <td>apple</td>\n",
       "      <td>Smartphones</td>\n",
       "    </tr>\n",
       "  </tbody>\n",
       "</table>\n",
       "</div>"
      ],
      "text/plain": [
       "  product_name  product_price  shipping_fee  page_number   product_condition  \\\n",
       "0    iphone 12        4341.26        157.58            1                 New   \n",
       "1    iphone 12        1834.76        106.84            1  Seller refurbished   \n",
       "2    iphone 12        2853.90        125.29            1                 New   \n",
       "3    iphone 12        2703.68        118.44            1                 New   \n",
       "4    iphone 12        2282.42         23.05            1                 New   \n",
       "\n",
       "   seller_feedback_score origin_country manufacturer     category  \n",
       "0                  32390  United States        apple  Smartphones  \n",
       "1                  69441  United States        apple  Smartphones  \n",
       "2                  22198  United States        apple  Smartphones  \n",
       "3                  32390  United States        apple  Smartphones  \n",
       "4                      0        Ukraine        apple  Smartphones  "
      ]
     },
     "execution_count": 25,
     "metadata": {},
     "output_type": "execute_result"
    }
   ],
   "source": [
    "ebay_products2.head()"
   ]
  },
  {
   "cell_type": "code",
   "execution_count": 26,
   "id": "living-shakespeare",
   "metadata": {
    "ExecuteTime": {
     "end_time": "2021-05-24T10:23:20.346702Z",
     "start_time": "2021-05-24T10:23:20.329339Z"
    },
    "scrolled": true
   },
   "outputs": [
    {
     "data": {
      "text/plain": [
       "lenovo thinkpad        340\n",
       "galaxy s20             318\n",
       "iphone 12              273\n",
       "galaxy s10             247\n",
       "iphone 11              240\n",
       "macbook pro            239\n",
       "huawei p40             236\n",
       "huawei p30             232\n",
       "asus zenbook           230\n",
       "dell xps               229\n",
       "ipad air               226\n",
       "iphone x               225\n",
       "ipad pro               221\n",
       "macbook air            220\n",
       "galaxy tab             215\n",
       "dell precision         211\n",
       "lenovo ideapad         209\n",
       "xiaomi mi 10           201\n",
       "asus vivobook          196\n",
       "galaxy s21             196\n",
       "lenovo thinkbook       187\n",
       "huawei mediapad        171\n",
       "dell vostro            169\n",
       "oneplus nord           161\n",
       "lenovo tab             142\n",
       "dell latitude          132\n",
       "xiaomi mi 11           119\n",
       "huawei matebook        118\n",
       "hp zbook               108\n",
       "asus zephyrus           93\n",
       "asus rog strix scar     89\n",
       "galaxy book             84\n",
       "xiaomi redmibook        83\n",
       "oneplus 8 pro           76\n",
       "gigabyte aero           40\n",
       "Name: product_name, dtype: int64"
      ]
     },
     "execution_count": 26,
     "metadata": {},
     "output_type": "execute_result"
    }
   ],
   "source": [
    "ebay_products2['product_name'].value_counts()"
   ]
  },
  {
   "cell_type": "markdown",
   "id": "celtic-steps",
   "metadata": {},
   "source": [
    "## Split to train and test sets"
   ]
  },
  {
   "cell_type": "code",
   "execution_count": 27,
   "id": "swedish-quantum",
   "metadata": {
    "ExecuteTime": {
     "end_time": "2021-05-24T10:23:20.365256Z",
     "start_time": "2021-05-24T10:23:20.351698Z"
    }
   },
   "outputs": [],
   "source": [
    "X = ebay_products2.drop(['product_price'], axis=1)\n",
    "y = ebay_products2['product_price']"
   ]
  },
  {
   "cell_type": "code",
   "execution_count": 28,
   "id": "neutral-spokesman",
   "metadata": {
    "ExecuteTime": {
     "end_time": "2021-05-24T10:23:24.414567Z",
     "start_time": "2021-05-24T10:23:20.372092Z"
    }
   },
   "outputs": [],
   "source": [
    "from sklearn.model_selection import train_test_split\n",
    "\n",
    "X_train, X_test, y_train, y_test = train_test_split(X, y, random_state=42)"
   ]
  },
  {
   "cell_type": "markdown",
   "id": "gorgeous-dependence",
   "metadata": {},
   "source": [
    "## Examining the distribution of the target variable"
   ]
  },
  {
   "cell_type": "code",
   "execution_count": 29,
   "id": "operational-saskatchewan",
   "metadata": {
    "ExecuteTime": {
     "end_time": "2021-05-24T10:23:26.332547Z",
     "start_time": "2021-05-24T10:23:24.533817Z"
    }
   },
   "outputs": [
    {
     "data": {
      "image/png": "[encoded data removed]",
      "text/plain": [
       "<Figure size 432x288 with 1 Axes>"
      ]
     },
     "metadata": {
      "needs_background": "light"
     },
     "output_type": "display_data"
    }
   ],
   "source": [
    "import matplotlib.pyplot as plt\n",
    "\n",
    "plt.hist(y_train, bins=50)\n",
    "plt.title(f'Distribution of price')\n",
    "plt.show()"
   ]
  },
  {
   "cell_type": "code",
   "execution_count": 30,
   "id": "christian-craps",
   "metadata": {
    "ExecuteTime": {
     "end_time": "2021-05-24T10:23:26.361554Z",
     "start_time": "2021-05-24T10:23:26.336592Z"
    }
   },
   "outputs": [],
   "source": [
    "train_set = pd.concat([X_train, y_train], axis=1)\n",
    "test_set = pd.concat([X_test, y_test], axis=1)"
   ]
  },
  {
   "cell_type": "markdown",
   "id": "instrumental-witness",
   "metadata": {},
   "source": [
    "## Saving the train and test sets as csv files"
   ]
  },
  {
   "cell_type": "code",
   "execution_count": 31,
   "id": "changing-gregory",
   "metadata": {
    "ExecuteTime": {
     "end_time": "2021-05-24T10:23:26.430180Z",
     "start_time": "2021-05-24T10:23:26.367580Z"
    }
   },
   "outputs": [],
   "source": [
    "train_set.to_csv('train_set.csv', index=False)\n",
    "test_set.to_csv('test_set.csv', index=False)"
   ]
  },
  {
   "cell_type": "markdown",
   "id": "adverse-differential",
   "metadata": {
    "ExecuteTime": {
     "end_time": "2021-05-17T13:57:57.985301Z",
     "start_time": "2021-05-17T13:57:57.979220Z"
    }
   },
   "source": [
    "### Filtering outliers with extreme values"
   ]
  },
  {
   "cell_type": "code",
   "execution_count": 32,
   "id": "moved-efficiency",
   "metadata": {
    "ExecuteTime": {
     "end_time": "2021-05-24T10:23:26.470464Z",
     "start_time": "2021-05-24T10:23:26.436260Z"
    }
   },
   "outputs": [],
   "source": [
    "train_set = train_set[(train_set['product_price'] >= 150) & (train_set['product_price'] < 12000)]\n",
    "test_set = test_set[(test_set['product_price'] >= 150) & (test_set['product_price'] < 12000)]"
   ]
  },
  {
   "cell_type": "code",
   "execution_count": 33,
   "id": "graphic-leisure",
   "metadata": {
    "ExecuteTime": {
     "end_time": "2021-05-24T10:23:26.514031Z",
     "start_time": "2021-05-24T10:23:26.485775Z"
    }
   },
   "outputs": [
    {
     "data": {
      "text/plain": [
       "(4649, 9)"
      ]
     },
     "execution_count": 33,
     "metadata": {},
     "output_type": "execute_result"
    }
   ],
   "source": [
    "train_set.shape"
   ]
  },
  {
   "cell_type": "code",
   "execution_count": 34,
   "id": "minor-genetics",
   "metadata": {
    "ExecuteTime": {
     "end_time": "2021-05-24T10:23:26.552098Z",
     "start_time": "2021-05-24T10:23:26.527294Z"
    },
    "scrolled": true
   },
   "outputs": [
    {
     "data": {
      "text/plain": [
       "(1545, 9)"
      ]
     },
     "execution_count": 34,
     "metadata": {},
     "output_type": "execute_result"
    }
   ],
   "source": [
    "test_set.shape"
   ]
  },
  {
   "cell_type": "markdown",
   "id": "dramatic-history",
   "metadata": {},
   "source": [
    "## Examining seller feedback scores revealed must values are zeros, so it was dropped"
   ]
  },
  {
   "cell_type": "code",
   "execution_count": 35,
   "id": "regulated-wichita",
   "metadata": {
    "ExecuteTime": {
     "end_time": "2021-05-24T10:23:27.740767Z",
     "start_time": "2021-05-24T10:23:26.557933Z"
    }
   },
   "outputs": [
    {
     "data": {
      "image/png": "[encoded data removed]",
      "text/plain": [
       "<Figure size 432x288 with 1 Axes>"
      ]
     },
     "metadata": {
      "needs_background": "light"
     },
     "output_type": "display_data"
    }
   ],
   "source": [
    "plt.hist(train_set['seller_feedback_score'], bins=50)\n",
    "plt.title(f'Distribution of price')\n",
    "plt.show()"
   ]
  },
  {
   "cell_type": "code",
   "execution_count": 36,
   "id": "julian-mortality",
   "metadata": {
    "ExecuteTime": {
     "end_time": "2021-05-24T10:23:27.772644Z",
     "start_time": "2021-05-24T10:23:27.745341Z"
    }
   },
   "outputs": [],
   "source": [
    "train_set.drop(['seller_feedback_score'], axis=1, inplace=True)\n",
    "test_set.drop(['seller_feedback_score'], axis=1, inplace=True)"
   ]
  },
  {
   "cell_type": "code",
   "execution_count": 37,
   "id": "distinct-devil",
   "metadata": {
    "ExecuteTime": {
     "end_time": "2021-05-24T10:23:27.807243Z",
     "start_time": "2021-05-24T10:23:27.797444Z"
    }
   },
   "outputs": [
    {
     "data": {
      "text/plain": [
       "(4649, 8)"
      ]
     },
     "execution_count": 37,
     "metadata": {},
     "output_type": "execute_result"
    }
   ],
   "source": [
    "train_set.shape"
   ]
  },
  {
   "cell_type": "code",
   "execution_count": 38,
   "id": "charged-determination",
   "metadata": {
    "ExecuteTime": {
     "end_time": "2021-05-24T10:23:27.826559Z",
     "start_time": "2021-05-24T10:23:27.817238Z"
    },
    "scrolled": true
   },
   "outputs": [
    {
     "data": {
      "text/plain": [
       "(1545, 8)"
      ]
     },
     "execution_count": 38,
     "metadata": {},
     "output_type": "execute_result"
    }
   ],
   "source": [
    "test_set.shape"
   ]
  },
  {
   "cell_type": "markdown",
   "id": "united-consultation",
   "metadata": {},
   "source": [
    "## Dealing with sparsity in the country feature"
   ]
  },
  {
   "cell_type": "code",
   "execution_count": 39,
   "id": "extraordinary-powder",
   "metadata": {
    "ExecuteTime": {
     "end_time": "2021-05-24T10:23:27.864641Z",
     "start_time": "2021-05-24T10:23:27.838943Z"
    },
    "scrolled": true
   },
   "outputs": [
    {
     "data": {
      "text/plain": [
       "United States                                                                 2413\n",
       "United Kingdom                                                                1556\n",
       "Germany                                                                        134\n",
       "China                                                                          105\n",
       "Hong Kong                                                                       80\n",
       "South                                                                           63\n",
       "Philippines                                                                     51\n",
       "France                                                                          41\n",
       "Australia                                                                       34\n",
       "Italy                                                                           33\n",
       "Spain                                                                           21\n",
       "Canada                                                                          17\n",
       "Ukraine                                                                         11\n",
       "Japan                                                                           10\n",
       "Poland                                                                          10\n",
       "India                                                                           10\n",
       "Russian Federation                                                               6\n",
       "Taiwan                                                                           5\n",
       "Singapore                                                                        4\n",
       "Greece                                                                           4\n",
       "Switzerland                                                                      4\n",
       "Malaysia                                                                         4\n",
       "Bulgaria                                                                         3\n",
       "Sweden                                                                           3\n",
       "Hungary                                                                          3\n",
       "Portugal                                                                         2\n",
       "Finland                                                                          2\n",
       "Republic of                                                                      2\n",
       "Georgia                                                                          2\n",
       "Netherlands                                                                      1\n",
       "Indonesia                                                                        1\n",
       "Estonia                                                                          1\n",
       "Denmark                                                                          1\n",
       "Israel                                                                           1\n",
       "Sri Lanka                                                                        1\n",
       "Belgium                                                                          1\n",
       "United States and many other countries \\n\\t\\t\\t\\t\\t\\t\\t\\t\\t|  See details        1\n",
       "United Kingdom and many other countries \\n\\t\\t\\t\\t\\t\\t\\t\\t\\t|  See details       1\n",
       "Nigeria                                                                          1\n",
       "Bahrain                                                                          1\n",
       "South Africa                                                                     1\n",
       "Romania                                                                          1\n",
       "Ireland                                                                          1\n",
       "Luxembourg                                                                       1\n",
       "Lithuania                                                                        1\n",
       "Name: origin_country, dtype: int64"
      ]
     },
     "execution_count": 39,
     "metadata": {},
     "output_type": "execute_result"
    }
   ],
   "source": [
    "train_set['origin_country'].value_counts()"
   ]
  },
  {
   "cell_type": "code",
   "execution_count": 40,
   "id": "collaborative-boundary",
   "metadata": {
    "ExecuteTime": {
     "end_time": "2021-05-24T10:23:27.897022Z",
     "start_time": "2021-05-24T10:23:27.878543Z"
    },
    "scrolled": true
   },
   "outputs": [],
   "source": [
    "s = train_set['origin_country'].value_counts()\n",
    "train_set['origin_country'] = np.where(train_set['origin_country'].isin(s.index[s < 40]), 'Others', train_set['origin_country'])"
   ]
  },
  {
   "cell_type": "code",
   "execution_count": 41,
   "id": "pursuant-klein",
   "metadata": {
    "ExecuteTime": {
     "end_time": "2021-05-24T10:23:27.925353Z",
     "start_time": "2021-05-24T10:23:27.904545Z"
    }
   },
   "outputs": [],
   "source": [
    "test_set['origin_country'] = np.where(test_set['origin_country'].isin(s.index[s < 40]), 'Others', test_set['origin_country'])"
   ]
  },
  {
   "cell_type": "code",
   "execution_count": 42,
   "id": "demanding-acceptance",
   "metadata": {
    "ExecuteTime": {
     "end_time": "2021-05-24T10:23:27.966775Z",
     "start_time": "2021-05-24T10:23:27.941660Z"
    },
    "scrolled": true
   },
   "outputs": [
    {
     "data": {
      "text/plain": [
       "United States     2413\n",
       "United Kingdom    1556\n",
       "Others             206\n",
       "Germany            134\n",
       "China              105\n",
       "Hong Kong           80\n",
       "South               63\n",
       "Philippines         51\n",
       "France              41\n",
       "Name: origin_country, dtype: int64"
      ]
     },
     "execution_count": 42,
     "metadata": {},
     "output_type": "execute_result"
    }
   ],
   "source": [
    "train_set['origin_country'].value_counts()"
   ]
  },
  {
   "cell_type": "markdown",
   "id": "billion-dietary",
   "metadata": {},
   "source": [
    "## Data analysis and plotting"
   ]
  },
  {
   "cell_type": "code",
   "execution_count": 43,
   "id": "downtown-measurement",
   "metadata": {
    "ExecuteTime": {
     "end_time": "2021-05-24T10:23:27.997283Z",
     "start_time": "2021-05-24T10:23:27.982539Z"
    }
   },
   "outputs": [],
   "source": [
    "df = ebay_products2[(ebay_products2['product_price'] >= 150) & (ebay_products2['product_price'] < 12000)]"
   ]
  },
  {
   "cell_type": "code",
   "execution_count": 44,
   "id": "recreational-document",
   "metadata": {
    "ExecuteTime": {
     "end_time": "2021-05-24T10:23:28.030250Z",
     "start_time": "2021-05-24T10:23:28.007992Z"
    }
   },
   "outputs": [],
   "source": [
    "df = df[df['shipping_fee'] < 1200]"
   ]
  },
  {
   "cell_type": "code",
   "execution_count": 45,
   "id": "strong-formation",
   "metadata": {
    "ExecuteTime": {
     "end_time": "2021-05-24T10:23:28.062950Z",
     "start_time": "2021-05-24T10:23:28.043748Z"
    }
   },
   "outputs": [],
   "source": [
    "df = df.sort_values(by=['product_price']).reset_index(drop=True)"
   ]
  },
  {
   "cell_type": "code",
   "execution_count": 46,
   "id": "administrative-tablet",
   "metadata": {
    "ExecuteTime": {
     "end_time": "2021-05-24T10:23:28.102280Z",
     "start_time": "2021-05-24T10:23:28.075955Z"
    }
   },
   "outputs": [],
   "source": [
    "df = df.groupby(\"origin_country\").filter(lambda x: len(x) > 1)"
   ]
  },
  {
   "cell_type": "code",
   "execution_count": 47,
   "id": "respective-pulse",
   "metadata": {
    "ExecuteTime": {
     "end_time": "2021-05-24T10:23:28.190678Z",
     "start_time": "2021-05-24T10:23:28.127604Z"
    },
    "scrolled": true
   },
   "outputs": [
    {
     "data": {
      "text/html": [
       "<div>\n",
       "<style scoped>\n",
       "    .dataframe tbody tr th:only-of-type {\n",
       "        vertical-align: middle;\n",
       "    }\n",
       "\n",
       "    .dataframe tbody tr th {\n",
       "        vertical-align: top;\n",
       "    }\n",
       "\n",
       "    .dataframe thead th {\n",
       "        text-align: right;\n",
       "    }\n",
       "</style>\n",
       "<table border=\"1\" class=\"dataframe\">\n",
       "  <thead>\n",
       "    <tr style=\"text-align: right;\">\n",
       "      <th></th>\n",
       "      <th>product_name</th>\n",
       "      <th>product_price</th>\n",
       "      <th>shipping_fee</th>\n",
       "      <th>page_number</th>\n",
       "      <th>product_condition</th>\n",
       "      <th>seller_feedback_score</th>\n",
       "      <th>origin_country</th>\n",
       "      <th>manufacturer</th>\n",
       "      <th>category</th>\n",
       "    </tr>\n",
       "  </thead>\n",
       "  <tbody>\n",
       "    <tr>\n",
       "      <th>0</th>\n",
       "      <td>huawei mediapad</td>\n",
       "      <td>151.68</td>\n",
       "      <td>73.61</td>\n",
       "      <td>1</td>\n",
       "      <td>Used</td>\n",
       "      <td>1017</td>\n",
       "      <td>Lithuania</td>\n",
       "      <td>huawei</td>\n",
       "      <td>Tablets</td>\n",
       "    </tr>\n",
       "    <tr>\n",
       "      <th>1</th>\n",
       "      <td>ipad air</td>\n",
       "      <td>151.91</td>\n",
       "      <td>133.96</td>\n",
       "      <td>2</td>\n",
       "      <td>Used</td>\n",
       "      <td>943</td>\n",
       "      <td>United Kingdom</td>\n",
       "      <td>apple</td>\n",
       "      <td>Tablets</td>\n",
       "    </tr>\n",
       "    <tr>\n",
       "      <th>2</th>\n",
       "      <td>huawei mediapad</td>\n",
       "      <td>152.70</td>\n",
       "      <td>90.04</td>\n",
       "      <td>3</td>\n",
       "      <td>New</td>\n",
       "      <td>1561</td>\n",
       "      <td>China</td>\n",
       "      <td>huawei</td>\n",
       "      <td>Tablets</td>\n",
       "    </tr>\n",
       "    <tr>\n",
       "      <th>3</th>\n",
       "      <td>hp zbook</td>\n",
       "      <td>153.02</td>\n",
       "      <td>231.29</td>\n",
       "      <td>1</td>\n",
       "      <td>For parts or not working</td>\n",
       "      <td>5446</td>\n",
       "      <td>United Kingdom</td>\n",
       "      <td>hp</td>\n",
       "      <td>Computers</td>\n",
       "    </tr>\n",
       "    <tr>\n",
       "      <th>4</th>\n",
       "      <td>dell latitude</td>\n",
       "      <td>153.21</td>\n",
       "      <td>319.65</td>\n",
       "      <td>3</td>\n",
       "      <td>Used</td>\n",
       "      <td>2676</td>\n",
       "      <td>United States</td>\n",
       "      <td>dell</td>\n",
       "      <td>Tablets</td>\n",
       "    </tr>\n",
       "    <tr>\n",
       "      <th>...</th>\n",
       "      <td>...</td>\n",
       "      <td>...</td>\n",
       "      <td>...</td>\n",
       "      <td>...</td>\n",
       "      <td>...</td>\n",
       "      <td>...</td>\n",
       "      <td>...</td>\n",
       "      <td>...</td>\n",
       "      <td>...</td>\n",
       "    </tr>\n",
       "    <tr>\n",
       "      <th>6188</th>\n",
       "      <td>hp zbook</td>\n",
       "      <td>10869.47</td>\n",
       "      <td>230.94</td>\n",
       "      <td>1</td>\n",
       "      <td>New</td>\n",
       "      <td>16243</td>\n",
       "      <td>Germany</td>\n",
       "      <td>hp</td>\n",
       "      <td>Computers</td>\n",
       "    </tr>\n",
       "    <tr>\n",
       "      <th>6189</th>\n",
       "      <td>hp zbook</td>\n",
       "      <td>10869.47</td>\n",
       "      <td>230.94</td>\n",
       "      <td>4</td>\n",
       "      <td>New</td>\n",
       "      <td>16243</td>\n",
       "      <td>Germany</td>\n",
       "      <td>hp</td>\n",
       "      <td>Computers</td>\n",
       "    </tr>\n",
       "    <tr>\n",
       "      <th>6190</th>\n",
       "      <td>asus rog strix scar</td>\n",
       "      <td>11170.87</td>\n",
       "      <td>281.83</td>\n",
       "      <td>1</td>\n",
       "      <td>New</td>\n",
       "      <td>16243</td>\n",
       "      <td>Germany</td>\n",
       "      <td>asus</td>\n",
       "      <td>Computers</td>\n",
       "    </tr>\n",
       "    <tr>\n",
       "      <th>6191</th>\n",
       "      <td>gigabyte aero</td>\n",
       "      <td>11243.77</td>\n",
       "      <td>266.32</td>\n",
       "      <td>1</td>\n",
       "      <td>New</td>\n",
       "      <td>16243</td>\n",
       "      <td>Germany</td>\n",
       "      <td>gigabyte</td>\n",
       "      <td>Computers</td>\n",
       "    </tr>\n",
       "    <tr>\n",
       "      <th>6192</th>\n",
       "      <td>hp zbook</td>\n",
       "      <td>11839.03</td>\n",
       "      <td>211.49</td>\n",
       "      <td>1</td>\n",
       "      <td>New</td>\n",
       "      <td>16243</td>\n",
       "      <td>Germany</td>\n",
       "      <td>hp</td>\n",
       "      <td>Computers</td>\n",
       "    </tr>\n",
       "  </tbody>\n",
       "</table>\n",
       "<p>6175 rows × 9 columns</p>\n",
       "</div>"
      ],
      "text/plain": [
       "             product_name  product_price  shipping_fee  page_number  \\\n",
       "0         huawei mediapad         151.68         73.61            1   \n",
       "1                ipad air         151.91        133.96            2   \n",
       "2         huawei mediapad         152.70         90.04            3   \n",
       "3                hp zbook         153.02        231.29            1   \n",
       "4           dell latitude         153.21        319.65            3   \n",
       "...                   ...            ...           ...          ...   \n",
       "6188             hp zbook       10869.47        230.94            1   \n",
       "6189             hp zbook       10869.47        230.94            4   \n",
       "6190  asus rog strix scar       11170.87        281.83            1   \n",
       "6191        gigabyte aero       11243.77        266.32            1   \n",
       "6192             hp zbook       11839.03        211.49            1   \n",
       "\n",
       "             product_condition  seller_feedback_score  origin_country  \\\n",
       "0                         Used                   1017       Lithuania   \n",
       "1                         Used                    943  United Kingdom   \n",
       "2                          New                   1561           China   \n",
       "3     For parts or not working                   5446  United Kingdom   \n",
       "4                         Used                   2676   United States   \n",
       "...                        ...                    ...             ...   \n",
       "6188                       New                  16243         Germany   \n",
       "6189                       New                  16243         Germany   \n",
       "6190                       New                  16243         Germany   \n",
       "6191                       New                  16243         Germany   \n",
       "6192                       New                  16243         Germany   \n",
       "\n",
       "     manufacturer   category  \n",
       "0          huawei    Tablets  \n",
       "1           apple    Tablets  \n",
       "2          huawei    Tablets  \n",
       "3              hp  Computers  \n",
       "4            dell    Tablets  \n",
       "...           ...        ...  \n",
       "6188           hp  Computers  \n",
       "6189           hp  Computers  \n",
       "6190         asus  Computers  \n",
       "6191     gigabyte  Computers  \n",
       "6192           hp  Computers  \n",
       "\n",
       "[6175 rows x 9 columns]"
      ]
     },
     "execution_count": 47,
     "metadata": {},
     "output_type": "execute_result"
    }
   ],
   "source": [
    "df"
   ]
  },
  {
   "cell_type": "code",
   "execution_count": 48,
   "id": "infrared-costume",
   "metadata": {
    "ExecuteTime": {
     "end_time": "2021-05-24T10:23:28.218069Z",
     "start_time": "2021-05-24T10:23:28.198070Z"
    }
   },
   "outputs": [],
   "source": [
    "df.loc[df['origin_country'] == 'South', 'origin_country'] = 'South Africa'"
   ]
  },
  {
   "cell_type": "code",
   "execution_count": 49,
   "id": "affiliated-needle",
   "metadata": {
    "ExecuteTime": {
     "end_time": "2021-05-24T10:23:28.248616Z",
     "start_time": "2021-05-24T10:23:28.229388Z"
    }
   },
   "outputs": [],
   "source": [
    "df.loc[df['origin_country'] == 'Republic of', 'origin_country'] = 'Republic of Korea'"
   ]
  },
  {
   "cell_type": "markdown",
   "id": "modified-uncertainty",
   "metadata": {},
   "source": [
    "### Product name vs. price"
   ]
  },
  {
   "cell_type": "code",
   "execution_count": 50,
   "id": "verbal-schedule",
   "metadata": {
    "ExecuteTime": {
     "end_time": "2021-05-24T10:23:28.279177Z",
     "start_time": "2021-05-24T10:23:28.260332Z"
    }
   },
   "outputs": [],
   "source": [
    "order_list2 = ['gigabyte aero','asus zephyrus','hp zbook', 'asus rog strix scar', 'galaxy book', 'asus zenbook', \n",
    "               'xiaomi mi 11', 'lenovo thinkbook', 'huawei matebook', 'dell xps', 'galaxy s21', 'iphone 12', \n",
    "               'dell precision', 'xiaomi redmibook', 'iphone 11', 'xiaomi mi 10', 'huawei p40', 'asus vivobook', 'galaxy s20', \n",
    "               'macbook pro', 'lenovo ideapad', 'ipad pro', 'macbook air', 'dell vostro', 'oneplus 8 pro', 'oneplus nord', \n",
    "               'huawei p30', 'lenovo thinkpad', 'galaxy s10', 'iphone x', 'dell latitude', 'galaxy tab', 'ipad air', 'lenovo tab', \n",
    "               'huawei mediapad']"
   ]
  },
  {
   "cell_type": "code",
   "execution_count": 51,
   "id": "hungry-grill",
   "metadata": {
    "ExecuteTime": {
     "end_time": "2021-05-24T10:23:38.610870Z",
     "start_time": "2021-05-24T10:23:28.286545Z"
    },
    "scrolled": false
   },
   "outputs": [
    {
     "data": {
      "image/png": "[encoded data removed]",
      "text/plain": [
       "<Figure size 864x792 with 1 Axes>"
      ]
     },
     "metadata": {
      "needs_background": "light"
     },
     "output_type": "display_data"
    }
   ],
   "source": [
    "import seaborn as sns\n",
    "\n",
    "plt.figure(figsize=(12, 11))\n",
    "sns.barplot(x='product_name', y='product_price', data=df, hue='category', dodge=False, palette='bright', order=order_list2)\n",
    "plt.xticks(rotation=90)\n",
    "plt.xlabel('Product name')\n",
    "plt.ylabel('Product price (ILS)')\n",
    "plt.legend(title='Product category')\n",
    "plt.tight_layout()\n",
    "plt.rcParams['axes.facecolor']='white'\n",
    "plt.rcParams['savefig.facecolor']='white'\n",
    "plt.savefig(\"/Users/royyanovski/Desktop/Data_mining_proj_figs/NameVsPrice.png\")\n",
    "plt.show()"
   ]
  },
  {
   "cell_type": "markdown",
   "id": "physical-burke",
   "metadata": {},
   "source": [
    "### Shipping country and distance from target location (Israel) vs. Shipping fee"
   ]
  },
  {
   "cell_type": "code",
   "execution_count": 52,
   "id": "complete-market",
   "metadata": {
    "ExecuteTime": {
     "end_time": "2021-05-24T10:23:38.648250Z",
     "start_time": "2021-05-24T10:23:38.618344Z"
    }
   },
   "outputs": [],
   "source": [
    "df_country = df[['origin_country', 'product_price']].groupby(\"origin_country\").mean().sort_values(by=['product_price'], ascending=False).reset_index()"
   ]
  },
  {
   "cell_type": "code",
   "execution_count": 53,
   "id": "violent-stream",
   "metadata": {
    "ExecuteTime": {
     "end_time": "2021-05-24T10:23:38.701712Z",
     "start_time": "2021-05-24T10:23:38.677413Z"
    }
   },
   "outputs": [],
   "source": [
    "df_country_shipping = df[['origin_country', 'shipping_fee']].groupby(\"origin_country\").mean().sort_values(by=['shipping_fee'], ascending=False).reset_index()"
   ]
  },
  {
   "cell_type": "code",
   "execution_count": 54,
   "id": "intelligent-brief",
   "metadata": {
    "ExecuteTime": {
     "end_time": "2021-05-24T10:23:38.762522Z",
     "start_time": "2021-05-24T10:23:38.745322Z"
    }
   },
   "outputs": [],
   "source": [
    "distances = [2503, 2851, 7656, 14043, 2251, 9444, 3557, 8918, 2643, 4010, 2846, 4144, 7757, 1390, 3276, 3544, \n",
    "             3207, 3279, 2171, 7968, 7135, 8272, 4064, 9164, 1200, 2624, 7536, 1553, 2073, 8801]"
   ]
  },
  {
   "cell_type": "code",
   "execution_count": 55,
   "id": "phantom-creek",
   "metadata": {
    "ExecuteTime": {
     "end_time": "2021-05-24T10:23:38.782242Z",
     "start_time": "2021-05-24T10:23:38.772428Z"
    }
   },
   "outputs": [],
   "source": [
    "df_country_shipping['distances'] = distances"
   ]
  },
  {
   "cell_type": "code",
   "execution_count": 56,
   "id": "functioning-portrait",
   "metadata": {
    "ExecuteTime": {
     "end_time": "2021-05-24T10:23:38.813528Z",
     "start_time": "2021-05-24T10:23:38.788355Z"
    },
    "scrolled": true
   },
   "outputs": [
    {
     "data": {
      "text/html": [
       "<div>\n",
       "<style scoped>\n",
       "    .dataframe tbody tr th:only-of-type {\n",
       "        vertical-align: middle;\n",
       "    }\n",
       "\n",
       "    .dataframe tbody tr th {\n",
       "        vertical-align: top;\n",
       "    }\n",
       "\n",
       "    .dataframe thead th {\n",
       "        text-align: right;\n",
       "    }\n",
       "</style>\n",
       "<table border=\"1\" class=\"dataframe\">\n",
       "  <thead>\n",
       "    <tr style=\"text-align: right;\">\n",
       "      <th></th>\n",
       "      <th>origin_country</th>\n",
       "      <th>shipping_fee</th>\n",
       "      <th>distances</th>\n",
       "    </tr>\n",
       "  </thead>\n",
       "  <tbody>\n",
       "    <tr>\n",
       "      <th>0</th>\n",
       "      <td>Poland</td>\n",
       "      <td>188.373333</td>\n",
       "      <td>2503</td>\n",
       "    </tr>\n",
       "    <tr>\n",
       "      <th>1</th>\n",
       "      <td>Germany</td>\n",
       "      <td>184.891602</td>\n",
       "      <td>2851</td>\n",
       "    </tr>\n",
       "    <tr>\n",
       "      <th>2</th>\n",
       "      <td>Malaysia</td>\n",
       "      <td>175.495000</td>\n",
       "      <td>7656</td>\n",
       "    </tr>\n",
       "    <tr>\n",
       "      <th>3</th>\n",
       "      <td>Australia</td>\n",
       "      <td>165.902308</td>\n",
       "      <td>14043</td>\n",
       "    </tr>\n",
       "    <tr>\n",
       "      <th>4</th>\n",
       "      <td>Italy</td>\n",
       "      <td>163.511707</td>\n",
       "      <td>2251</td>\n",
       "    </tr>\n",
       "    <tr>\n",
       "      <th>5</th>\n",
       "      <td>United States</td>\n",
       "      <td>160.465508</td>\n",
       "      <td>9444</td>\n",
       "    </tr>\n",
       "    <tr>\n",
       "      <th>6</th>\n",
       "      <td>United Kingdom</td>\n",
       "      <td>150.705471</td>\n",
       "      <td>3557</td>\n",
       "    </tr>\n",
       "    <tr>\n",
       "      <th>7</th>\n",
       "      <td>Canada</td>\n",
       "      <td>149.913478</td>\n",
       "      <td>8918</td>\n",
       "    </tr>\n",
       "    <tr>\n",
       "      <th>8</th>\n",
       "      <td>Russian Federation</td>\n",
       "      <td>143.516000</td>\n",
       "      <td>2643</td>\n",
       "    </tr>\n",
       "    <tr>\n",
       "      <th>9</th>\n",
       "      <td>Portugal</td>\n",
       "      <td>142.705000</td>\n",
       "      <td>4010</td>\n",
       "    </tr>\n",
       "    <tr>\n",
       "      <th>10</th>\n",
       "      <td>Switzerland</td>\n",
       "      <td>138.936667</td>\n",
       "      <td>2846</td>\n",
       "    </tr>\n",
       "    <tr>\n",
       "      <th>11</th>\n",
       "      <td>Republic of Korea</td>\n",
       "      <td>138.825000</td>\n",
       "      <td>4144</td>\n",
       "    </tr>\n",
       "    <tr>\n",
       "      <th>12</th>\n",
       "      <td>Hong Kong</td>\n",
       "      <td>130.103097</td>\n",
       "      <td>7757</td>\n",
       "    </tr>\n",
       "    <tr>\n",
       "      <th>13</th>\n",
       "      <td>Georgia</td>\n",
       "      <td>124.060000</td>\n",
       "      <td>1390</td>\n",
       "    </tr>\n",
       "    <tr>\n",
       "      <th>14</th>\n",
       "      <td>Sweden</td>\n",
       "      <td>110.582500</td>\n",
       "      <td>3276</td>\n",
       "    </tr>\n",
       "    <tr>\n",
       "      <th>15</th>\n",
       "      <td>Spain</td>\n",
       "      <td>109.888077</td>\n",
       "      <td>3544</td>\n",
       "    </tr>\n",
       "    <tr>\n",
       "      <th>16</th>\n",
       "      <td>Finland</td>\n",
       "      <td>108.245000</td>\n",
       "      <td>3207</td>\n",
       "    </tr>\n",
       "    <tr>\n",
       "      <th>17</th>\n",
       "      <td>France</td>\n",
       "      <td>88.486200</td>\n",
       "      <td>3279</td>\n",
       "    </tr>\n",
       "    <tr>\n",
       "      <th>18</th>\n",
       "      <td>Hungary</td>\n",
       "      <td>86.656667</td>\n",
       "      <td>2171</td>\n",
       "    </tr>\n",
       "    <tr>\n",
       "      <th>19</th>\n",
       "      <td>Singapore</td>\n",
       "      <td>81.260000</td>\n",
       "      <td>7968</td>\n",
       "    </tr>\n",
       "    <tr>\n",
       "      <th>20</th>\n",
       "      <td>China</td>\n",
       "      <td>79.666593</td>\n",
       "      <td>7135</td>\n",
       "    </tr>\n",
       "    <tr>\n",
       "      <th>21</th>\n",
       "      <td>Taiwan</td>\n",
       "      <td>70.108333</td>\n",
       "      <td>8272</td>\n",
       "    </tr>\n",
       "    <tr>\n",
       "      <th>22</th>\n",
       "      <td>India</td>\n",
       "      <td>63.415556</td>\n",
       "      <td>4064</td>\n",
       "    </tr>\n",
       "    <tr>\n",
       "      <th>23</th>\n",
       "      <td>Japan</td>\n",
       "      <td>61.670833</td>\n",
       "      <td>9164</td>\n",
       "    </tr>\n",
       "    <tr>\n",
       "      <th>24</th>\n",
       "      <td>Greece</td>\n",
       "      <td>47.732500</td>\n",
       "      <td>1200</td>\n",
       "    </tr>\n",
       "    <tr>\n",
       "      <th>25</th>\n",
       "      <td>Lithuania</td>\n",
       "      <td>36.805000</td>\n",
       "      <td>2624</td>\n",
       "    </tr>\n",
       "    <tr>\n",
       "      <th>26</th>\n",
       "      <td>South Africa</td>\n",
       "      <td>31.709326</td>\n",
       "      <td>7536</td>\n",
       "    </tr>\n",
       "    <tr>\n",
       "      <th>27</th>\n",
       "      <td>Bulgaria</td>\n",
       "      <td>31.332500</td>\n",
       "      <td>1553</td>\n",
       "    </tr>\n",
       "    <tr>\n",
       "      <th>28</th>\n",
       "      <td>Ukraine</td>\n",
       "      <td>30.372500</td>\n",
       "      <td>2073</td>\n",
       "    </tr>\n",
       "    <tr>\n",
       "      <th>29</th>\n",
       "      <td>Philippines</td>\n",
       "      <td>21.234384</td>\n",
       "      <td>8801</td>\n",
       "    </tr>\n",
       "  </tbody>\n",
       "</table>\n",
       "</div>"
      ],
      "text/plain": [
       "        origin_country  shipping_fee  distances\n",
       "0               Poland    188.373333       2503\n",
       "1              Germany    184.891602       2851\n",
       "2             Malaysia    175.495000       7656\n",
       "3            Australia    165.902308      14043\n",
       "4                Italy    163.511707       2251\n",
       "5        United States    160.465508       9444\n",
       "6       United Kingdom    150.705471       3557\n",
       "7               Canada    149.913478       8918\n",
       "8   Russian Federation    143.516000       2643\n",
       "9             Portugal    142.705000       4010\n",
       "10         Switzerland    138.936667       2846\n",
       "11   Republic of Korea    138.825000       4144\n",
       "12           Hong Kong    130.103097       7757\n",
       "13             Georgia    124.060000       1390\n",
       "14              Sweden    110.582500       3276\n",
       "15               Spain    109.888077       3544\n",
       "16             Finland    108.245000       3207\n",
       "17              France     88.486200       3279\n",
       "18             Hungary     86.656667       2171\n",
       "19           Singapore     81.260000       7968\n",
       "20               China     79.666593       7135\n",
       "21              Taiwan     70.108333       8272\n",
       "22               India     63.415556       4064\n",
       "23               Japan     61.670833       9164\n",
       "24              Greece     47.732500       1200\n",
       "25           Lithuania     36.805000       2624\n",
       "26        South Africa     31.709326       7536\n",
       "27            Bulgaria     31.332500       1553\n",
       "28             Ukraine     30.372500       2073\n",
       "29         Philippines     21.234384       8801"
      ]
     },
     "execution_count": 56,
     "metadata": {},
     "output_type": "execute_result"
    }
   ],
   "source": [
    "df_country_shipping"
   ]
  },
  {
   "cell_type": "code",
   "execution_count": 57,
   "id": "failing-chancellor",
   "metadata": {
    "ExecuteTime": {
     "end_time": "2021-05-24T10:23:44.116819Z",
     "start_time": "2021-05-24T10:23:38.825324Z"
    },
    "scrolled": false
   },
   "outputs": [
    {
     "name": "stderr",
     "output_type": "stream",
     "text": [
      "/opt/anaconda3/lib/python3.7/site-packages/ipykernel_launcher.py:5: UserWarning: FixedFormatter should only be used together with FixedLocator\n",
      "  \"\"\"\n"
     ]
    },
    {
     "data": {
      "image/png": "[encoded data removed]",
      "text/plain": [
       "<Figure size 864x792 with 2 Axes>"
      ]
     },
     "metadata": {
      "needs_background": "light"
     },
     "output_type": "display_data"
    }
   ],
   "source": [
    "fig, ax1 = plt.subplots(figsize=(12, 11))\n",
    "sns.barplot(x='origin_country', y='shipping_fee', data=df_country_shipping, ax=ax1)\n",
    "ax2 = plt.twinx()\n",
    "sns.lineplot(x='origin_country', y='distances', data=df_country_shipping, ax=ax2, color='black', label='Distances')\n",
    "ax1.set_xticklabels(ax1.get_xticklabels(), rotation=90)\n",
    "ax1.set_xlabel('Shipping country')\n",
    "ax1.set_ylabel('Shipping fee (ILS)')\n",
    "ax2.set_ylabel('Distance from Israel (KM)')\n",
    "plt.tight_layout()\n",
    "plt.rcParams['axes.facecolor']='white'\n",
    "plt.rcParams['savefig.facecolor']='white'\n",
    "plt.savefig(\"/Users/royyanovski/Desktop/Data_mining_proj_figs/CountryVsShipping.png\")\n",
    "plt.show()"
   ]
  },
  {
   "cell_type": "markdown",
   "id": "color-registration",
   "metadata": {},
   "source": [
    "### Shipping fee vs. Seller feedback score"
   ]
  },
  {
   "cell_type": "code",
   "execution_count": 58,
   "id": "concrete-portrait",
   "metadata": {
    "ExecuteTime": {
     "end_time": "2021-05-24T10:23:47.075487Z",
     "start_time": "2021-05-24T10:23:44.124352Z"
    },
    "scrolled": true
   },
   "outputs": [
    {
     "data": {
      "image/png": "[encoded data removed]",
      "text/plain": [
       "<Figure size 864x792 with 1 Axes>"
      ]
     },
     "metadata": {
      "needs_background": "light"
     },
     "output_type": "display_data"
    }
   ],
   "source": [
    "plt.figure(figsize=(12, 11))\n",
    "sns.scatterplot(x='shipping_fee', y='seller_feedback_score', data=df, hue='category', palette='bright')\n",
    "plt.xlabel('Shipping fee (ILS)')\n",
    "plt.ylabel('Seller feedback score')\n",
    "plt.legend(title='Product category')\n",
    "plt.tight_layout()\n",
    "plt.rcParams['axes.facecolor']='white'\n",
    "plt.rcParams['savefig.facecolor']='white'\n",
    "plt.savefig(\"/Users/royyanovski/Desktop/Data_mining_proj_figs/ShippingVsFeedback.png\")\n",
    "plt.show()"
   ]
  },
  {
   "cell_type": "code",
   "execution_count": 59,
   "id": "printable-continent",
   "metadata": {
    "ExecuteTime": {
     "end_time": "2021-05-24T10:23:51.215711Z",
     "start_time": "2021-05-24T10:23:47.079861Z"
    }
   },
   "outputs": [
    {
     "data": {
      "image/png": "[encoded data removed]",
      "text/plain": [
       "<Figure size 864x792 with 1 Axes>"
      ]
     },
     "metadata": {
      "needs_background": "light"
     },
     "output_type": "display_data"
    }
   ],
   "source": [
    "plt.figure(figsize=(12, 11))\n",
    "sns.scatterplot(x='product_price', y='seller_feedback_score', data=df, hue='category', palette='bright', alpha=0.5)\n",
    "plt.xlabel('Product price (ILS)')\n",
    "plt.ylabel('Seller feedback score')\n",
    "plt.legend(title='Product category')\n",
    "plt.tight_layout()\n",
    "plt.rcParams['axes.facecolor']='white'\n",
    "plt.rcParams['savefig.facecolor']='white'\n",
    "plt.savefig(\"/Users/royyanovski/Desktop/Data_mining_proj_figs/PriceVsFeedback.png\")\n",
    "plt.show()"
   ]
  },
  {
   "cell_type": "markdown",
   "id": "pharmaceutical-ivory",
   "metadata": {
    "ExecuteTime": {
     "end_time": "2021-05-17T13:58:04.198430Z",
     "start_time": "2021-05-17T13:58:04.189383Z"
    }
   },
   "source": [
    "### Product condition vs. price"
   ]
  },
  {
   "cell_type": "code",
   "execution_count": 60,
   "id": "continuous-midnight",
   "metadata": {
    "ExecuteTime": {
     "end_time": "2021-05-24T10:23:51.228589Z",
     "start_time": "2021-05-24T10:23:51.223744Z"
    }
   },
   "outputs": [],
   "source": [
    "order_list = ['New','Certified refurbished','Open box', 'Seller refurbished', 'Used', 'For parts or not working']"
   ]
  },
  {
   "cell_type": "code",
   "execution_count": 61,
   "id": "rational-slide",
   "metadata": {
    "ExecuteTime": {
     "end_time": "2021-05-24T10:23:53.193576Z",
     "start_time": "2021-05-24T10:23:51.238027Z"
    }
   },
   "outputs": [
    {
     "data": {
      "image/png": "[encoded data removed]",
      "text/plain": [
       "<Figure size 864x792 with 1 Axes>"
      ]
     },
     "metadata": {
      "needs_background": "light"
     },
     "output_type": "display_data"
    }
   ],
   "source": [
    "plt.figure(figsize=(12, 11))\n",
    "sns.boxplot(x='product_condition', y='product_price', data=df, hue='category', palette='bright', order=order_list)\n",
    "plt.ylabel('Product price (ILS)')\n",
    "plt.xlabel('Product condition')\n",
    "plt.legend(title='Product category')\n",
    "plt.tight_layout()\n",
    "plt.rcParams['axes.facecolor']='white'\n",
    "plt.rcParams['savefig.facecolor']='white'\n",
    "plt.savefig(\"/Users/royyanovski/Desktop/Data_mining_proj_figs/ConditionVsPrice.png\")\n",
    "plt.show()"
   ]
  },
  {
   "cell_type": "markdown",
   "id": "altered-reason",
   "metadata": {},
   "source": [
    "### Search page number vs. average product price"
   ]
  },
  {
   "cell_type": "code",
   "execution_count": 62,
   "id": "atomic-privacy",
   "metadata": {
    "ExecuteTime": {
     "end_time": "2021-05-24T10:23:55.451141Z",
     "start_time": "2021-05-24T10:23:53.198649Z"
    },
    "scrolled": false
   },
   "outputs": [
    {
     "data": {
      "image/png": "[encoded data removed]",
      "text/plain": [
       "<Figure size 864x864 with 1 Axes>"
      ]
     },
     "metadata": {
      "needs_background": "light"
     },
     "output_type": "display_data"
    }
   ],
   "source": [
    "plt.figure(figsize=(12, 12))\n",
    "sns.barplot(x='page_number', y='product_price', data=df, hue='category', palette='bright')\n",
    "plt.ylabel('Product price (ILS)')\n",
    "plt.xlabel('Search page Number')\n",
    "plt.legend(title='Product category')\n",
    "plt.tight_layout()\n",
    "plt.rcParams['axes.facecolor']='white'\n",
    "plt.rcParams['savefig.facecolor']='white'\n",
    "plt.savefig(\"/Users/royyanovski/Desktop/Data_mining_proj_figs/PageVsPrice.png\")\n",
    "plt.show()"
   ]
  },
  {
   "cell_type": "code",
   "execution_count": null,
   "id": "broke-delicious",
   "metadata": {},
   "outputs": [],
   "source": []
  },
  {
   "cell_type": "markdown",
   "id": "cubic-blanket",
   "metadata": {},
   "source": [
    "## Creating dummy variables for the categorial features"
   ]
  },
  {
   "cell_type": "code",
   "execution_count": 63,
   "id": "seven-intake",
   "metadata": {
    "ExecuteTime": {
     "end_time": "2021-05-24T10:23:55.480274Z",
     "start_time": "2021-05-24T10:23:55.460720Z"
    }
   },
   "outputs": [],
   "source": [
    "X_train = train_set.drop(['product_price'], axis=1)\n",
    "y_train = train_set['product_price']\n",
    "\n",
    "X_test = test_set.drop(['product_price'], axis=1)\n",
    "y_test = test_set['product_price']"
   ]
  },
  {
   "cell_type": "code",
   "execution_count": 64,
   "id": "greenhouse-nickel",
   "metadata": {
    "ExecuteTime": {
     "end_time": "2021-05-24T10:23:55.525443Z",
     "start_time": "2021-05-24T10:23:55.488934Z"
    }
   },
   "outputs": [],
   "source": [
    "dummies = pd.get_dummies(X_train['category'])\n",
    "X_train = pd.concat([X_train, dummies], axis=1).drop(['category'], axis=1)\n",
    "dummies = pd.get_dummies(X_test['category'])\n",
    "X_test = pd.concat([X_test, dummies], axis=1).drop(['category'], axis=1)"
   ]
  },
  {
   "cell_type": "code",
   "execution_count": 65,
   "id": "dimensional-heather",
   "metadata": {
    "ExecuteTime": {
     "end_time": "2021-05-24T10:23:55.563247Z",
     "start_time": "2021-05-24T10:23:55.530096Z"
    }
   },
   "outputs": [],
   "source": [
    "dummies = pd.get_dummies(X_train['product_condition'])\n",
    "X_train = pd.concat([X_train, dummies], axis=1).drop(['product_condition'], axis=1)\n",
    "dummies = pd.get_dummies(X_test['product_condition'])\n",
    "X_test = pd.concat([X_test, dummies], axis=1).drop(['product_condition'], axis=1)"
   ]
  },
  {
   "cell_type": "code",
   "execution_count": 66,
   "id": "favorite-penetration",
   "metadata": {
    "ExecuteTime": {
     "end_time": "2021-05-24T10:23:55.797385Z",
     "start_time": "2021-05-24T10:23:55.567928Z"
    }
   },
   "outputs": [],
   "source": [
    "dummies = pd.get_dummies(X_train['product_name'])\n",
    "X_train = pd.concat([X_train, dummies], axis=1).drop(['product_name'], axis=1)\n",
    "dummies = pd.get_dummies(X_test['product_name'])\n",
    "X_test = pd.concat([X_test, dummies], axis=1).drop(['product_name'], axis=1)"
   ]
  },
  {
   "cell_type": "code",
   "execution_count": 67,
   "id": "concerned-drinking",
   "metadata": {
    "ExecuteTime": {
     "end_time": "2021-05-24T10:23:55.863319Z",
     "start_time": "2021-05-24T10:23:55.819012Z"
    }
   },
   "outputs": [],
   "source": [
    "dummies = pd.get_dummies(X_train['manufacturer'])\n",
    "X_train = pd.concat([X_train, dummies], axis=1).drop(['manufacturer'], axis=1)\n",
    "dummies = pd.get_dummies(X_test['manufacturer'])\n",
    "X_test = pd.concat([X_test, dummies], axis=1).drop(['manufacturer'], axis=1)"
   ]
  },
  {
   "cell_type": "code",
   "execution_count": 68,
   "id": "answering-filename",
   "metadata": {
    "ExecuteTime": {
     "end_time": "2021-05-24T10:23:56.036004Z",
     "start_time": "2021-05-24T10:23:56.011416Z"
    }
   },
   "outputs": [],
   "source": [
    "dummies = pd.get_dummies(X_train['origin_country'])\n",
    "X_train = pd.concat([X_train, dummies], axis=1).drop(['origin_country'], axis=1)\n",
    "dummies = pd.get_dummies(X_test['origin_country'])\n",
    "X_test = pd.concat([X_test, dummies], axis=1).drop(['origin_country'], axis=1)"
   ]
  },
  {
   "cell_type": "markdown",
   "id": "supposed-malpractice",
   "metadata": {},
   "source": [
    "## Binning the 'shipping fee' feature"
   ]
  },
  {
   "cell_type": "code",
   "execution_count": 69,
   "id": "extended-chester",
   "metadata": {
    "ExecuteTime": {
     "end_time": "2021-05-24T10:23:56.084670Z",
     "start_time": "2021-05-24T10:23:56.067624Z"
    }
   },
   "outputs": [],
   "source": [
    "X_train = X_train.reset_index()\n",
    "X_train.drop(['index'], axis=1, inplace=True)"
   ]
  },
  {
   "cell_type": "code",
   "execution_count": 70,
   "id": "every-gossip",
   "metadata": {
    "ExecuteTime": {
     "end_time": "2021-05-24T10:23:56.102937Z",
     "start_time": "2021-05-24T10:23:56.091635Z"
    }
   },
   "outputs": [],
   "source": [
    "X_test = X_test.reset_index()\n",
    "X_test.drop(['index'], axis=1, inplace=True)"
   ]
  },
  {
   "cell_type": "code",
   "execution_count": 71,
   "id": "moved-harrison",
   "metadata": {
    "ExecuteTime": {
     "end_time": "2021-05-24T10:23:56.114578Z",
     "start_time": "2021-05-24T10:23:56.108872Z"
    }
   },
   "outputs": [],
   "source": [
    "from sklearn.preprocessing import KBinsDiscretizer\n",
    "est = KBinsDiscretizer(n_bins=10, encode='ordinal', strategy='quantile')"
   ]
  },
  {
   "cell_type": "code",
   "execution_count": 72,
   "id": "regulated-chaos",
   "metadata": {
    "ExecuteTime": {
     "end_time": "2021-05-24T10:23:56.418824Z",
     "start_time": "2021-05-24T10:23:56.120179Z"
    }
   },
   "outputs": [
    {
     "data": {
      "text/plain": [
       "KBinsDiscretizer(encode='ordinal', n_bins=10)"
      ]
     },
     "execution_count": 72,
     "metadata": {},
     "output_type": "execute_result"
    }
   ],
   "source": [
    "est.fit(X_train[['shipping_fee']])"
   ]
  },
  {
   "cell_type": "code",
   "execution_count": 73,
   "id": "overhead-smooth",
   "metadata": {
    "ExecuteTime": {
     "end_time": "2021-05-24T10:23:56.518692Z",
     "start_time": "2021-05-24T10:23:56.489677Z"
    }
   },
   "outputs": [],
   "source": [
    "X_train[['shipping_fee']] = pd.Series(est.transform(X_train[['shipping_fee']])[:, 0])"
   ]
  },
  {
   "cell_type": "code",
   "execution_count": 74,
   "id": "chronic-globe",
   "metadata": {
    "ExecuteTime": {
     "end_time": "2021-05-24T10:23:56.554640Z",
     "start_time": "2021-05-24T10:23:56.529516Z"
    }
   },
   "outputs": [],
   "source": [
    "X_test[['shipping_fee']] = pd.Series(est.transform(X_test[['shipping_fee']])[:, 0])"
   ]
  },
  {
   "cell_type": "code",
   "execution_count": 75,
   "id": "based-saint",
   "metadata": {
    "ExecuteTime": {
     "end_time": "2021-05-24T10:23:56.587272Z",
     "start_time": "2021-05-24T10:23:56.564977Z"
    },
    "scrolled": true
   },
   "outputs": [
    {
     "data": {
      "text/plain": [
       "1.0    472\n",
       "3.0    466\n",
       "8.0    466\n",
       "6.0    465\n",
       "5.0    465\n",
       "9.0    465\n",
       "2.0    465\n",
       "4.0    464\n",
       "7.0    464\n",
       "0.0    457\n",
       "Name: shipping_fee, dtype: int64"
      ]
     },
     "execution_count": 75,
     "metadata": {},
     "output_type": "execute_result"
    }
   ],
   "source": [
    "X_train.shipping_fee.value_counts(dropna=False)"
   ]
  },
  {
   "cell_type": "markdown",
   "id": "aquatic-shark",
   "metadata": {},
   "source": [
    "## Dropping unique test set columns"
   ]
  },
  {
   "cell_type": "code",
   "execution_count": 76,
   "id": "hidden-conducting",
   "metadata": {
    "ExecuteTime": {
     "end_time": "2021-05-24T10:23:56.682277Z",
     "start_time": "2021-05-24T10:23:56.595851Z"
    },
    "scrolled": true
   },
   "outputs": [
    {
     "name": "stdout",
     "output_type": "stream",
     "text": [
      "Cambodia\n",
      "Czech Republic\n",
      "Latvia\n"
     ]
    }
   ],
   "source": [
    "for col in X_test.columns:\n",
    "    if col not in X_train.columns:\n",
    "        print(col)\n",
    "        X_test.drop([col], axis=1, inplace=True)"
   ]
  },
  {
   "cell_type": "code",
   "execution_count": 77,
   "id": "floral-cheat",
   "metadata": {
    "ExecuteTime": {
     "end_time": "2021-05-24T10:23:56.725481Z",
     "start_time": "2021-05-24T10:23:56.713418Z"
    }
   },
   "outputs": [
    {
     "data": {
      "text/plain": [
       "(4649, 65)"
      ]
     },
     "execution_count": 77,
     "metadata": {},
     "output_type": "execute_result"
    }
   ],
   "source": [
    "X_train.shape"
   ]
  },
  {
   "cell_type": "code",
   "execution_count": 78,
   "id": "classical-flooring",
   "metadata": {
    "ExecuteTime": {
     "end_time": "2021-05-24T10:23:56.751884Z",
     "start_time": "2021-05-24T10:23:56.735226Z"
    },
    "scrolled": true
   },
   "outputs": [
    {
     "data": {
      "text/plain": [
       "(1545, 65)"
      ]
     },
     "execution_count": 78,
     "metadata": {},
     "output_type": "execute_result"
    }
   ],
   "source": [
    "X_test.shape"
   ]
  },
  {
   "cell_type": "markdown",
   "id": "afraid-probe",
   "metadata": {},
   "source": [
    "## Baseline"
   ]
  },
  {
   "cell_type": "code",
   "execution_count": 79,
   "id": "collaborative-intake",
   "metadata": {
    "ExecuteTime": {
     "end_time": "2021-05-24T10:23:57.376162Z",
     "start_time": "2021-05-24T10:23:56.760534Z"
    }
   },
   "outputs": [
    {
     "name": "stdout",
     "output_type": "stream",
     "text": [
      "Our baseline results are: R-square: 0.000, RMSE: 1602.52\n"
     ]
    }
   ],
   "source": [
    "from sklearn.metrics import mean_squared_error\n",
    "from sklearn.metrics import r2_score\n",
    "\n",
    "y_pred = [y_train.mean() for i in range(len(y_train))]\n",
    "print(f'Our baseline results are: R-square: {r2_score(y_train, y_pred):.3f}, RMSE: {mean_squared_error(y_train, y_pred, squared=False):.2f}')\n"
   ]
  },
  {
   "cell_type": "markdown",
   "id": "sensitive-westminster",
   "metadata": {},
   "source": [
    "## Creating a Random Forest model"
   ]
  },
  {
   "cell_type": "code",
   "execution_count": 80,
   "id": "broken-bermuda",
   "metadata": {
    "ExecuteTime": {
     "end_time": "2021-05-24T10:24:01.848093Z",
     "start_time": "2021-05-24T10:23:57.381405Z"
    }
   },
   "outputs": [
    {
     "name": "stdout",
     "output_type": "stream",
     "text": [
      "The R-square on the test set is: 0.722\n"
     ]
    }
   ],
   "source": [
    "from sklearn.ensemble import RandomForestRegressor\n",
    "\n",
    "rf_reg = RandomForestRegressor(random_state=0)\n",
    "rf_reg.fit(X_train, y_train)\n",
    "y_pred = rf_reg.predict(X_test)\n",
    "\n",
    "rmse = mean_squared_error(y_test, y_pred, squared=False)\n",
    "r2 = r2_score(y_test, y_pred)\n",
    "print(f'The R-square on the test set is: {r2:.3f}')"
   ]
  },
  {
   "cell_type": "code",
   "execution_count": 81,
   "id": "natural-increase",
   "metadata": {
    "ExecuteTime": {
     "end_time": "2021-05-24T10:24:01.980098Z",
     "start_time": "2021-05-24T10:24:01.853526Z"
    }
   },
   "outputs": [
    {
     "name": "stdout",
     "output_type": "stream",
     "text": [
      "The R-square on the train set is: 0.882\n"
     ]
    }
   ],
   "source": [
    "print(f'The R-square on the train set is: {rf_reg.score(X_train, y_train):.3f}')"
   ]
  },
  {
   "cell_type": "markdown",
   "id": "pleased-effects",
   "metadata": {},
   "source": [
    "## Tuning hyper-parameters and creating the improved model"
   ]
  },
  {
   "cell_type": "code",
   "execution_count": 82,
   "id": "light-visit",
   "metadata": {
    "ExecuteTime": {
     "end_time": "2021-05-24T10:24:06.507042Z",
     "start_time": "2021-05-24T10:24:01.984986Z"
    }
   },
   "outputs": [
    {
     "name": "stdout",
     "output_type": "stream",
     "text": [
      "The R-square on the test set is: 0.755\n"
     ]
    }
   ],
   "source": [
    "rf_reg = RandomForestRegressor(min_samples_split=12, max_features=30, n_estimators=250, max_depth=30, min_impurity_decrease=0.1, random_state=0)\n",
    "rf_reg.fit(X_train, y_train)\n",
    "y_pred = rf_reg.predict(X_test)\n",
    "\n",
    "r2 = r2_score(y_test, y_pred)\n",
    "print(f'The R-square on the test set is: {r2:.3f}')"
   ]
  },
  {
   "cell_type": "code",
   "execution_count": 83,
   "id": "nearby-candy",
   "metadata": {
    "ExecuteTime": {
     "end_time": "2021-05-24T10:24:06.931901Z",
     "start_time": "2021-05-24T10:24:06.515811Z"
    }
   },
   "outputs": [
    {
     "name": "stdout",
     "output_type": "stream",
     "text": [
      "The R-square on the train set is: 0.825\n"
     ]
    }
   ],
   "source": [
    "print(f'The R-square on the train set is: {rf_reg.score(X_train, y_train):.3f}')"
   ]
  },
  {
   "cell_type": "code",
   "execution_count": 86,
   "id": "peripheral-egyptian",
   "metadata": {
    "ExecuteTime": {
     "end_time": "2021-06-15T13:35:07.615435Z",
     "start_time": "2021-06-15T13:35:01.564494Z"
    },
    "scrolled": false
   },
   "outputs": [
    {
     "data": {
      "image/png": "[encoded data removed]",
      "text/plain": [
       "<Figure size 432x288 with 1 Axes>"
      ]
     },
     "metadata": {
      "needs_background": "light"
     },
     "output_type": "display_data"
    }
   ],
   "source": [
    "plt.scatter(y_test, y_pred)\n",
    "plt.title('Predicted vs. True product price')\n",
    "plt.ylabel('Predicted price (ILS)')\n",
    "plt.xlabel('True price (ILS)')\n",
    "plt.tight_layout()\n",
    "plt.rcParams['axes.facecolor']='white'\n",
    "plt.rcParams['savefig.facecolor']='white'\n",
    "plt.savefig(\"/Users/royyanovski/Desktop/Data_mining_proj_figs/ModelResult.png\")\n",
    "plt.show()"
   ]
  },
  {
   "cell_type": "markdown",
   "id": "stretch-entrance",
   "metadata": {},
   "source": [
    "## Checking for feature importances"
   ]
  },
  {
   "cell_type": "code",
   "execution_count": 99,
   "id": "better-brooklyn",
   "metadata": {
    "ExecuteTime": {
     "end_time": "2021-06-15T13:49:43.908569Z",
     "start_time": "2021-06-15T13:49:43.867258Z"
    }
   },
   "outputs": [],
   "source": [
    "def topten_feat_importances(imps, names):\n",
    "    imps, names = zip(*sorted(zip(imps, names)))\n",
    "    f = plt.figure(figsize=(6, 9))\n",
    "    plt.barh(range(10), imps[-10:], align='center')\n",
    "    plt.yticks(range(10), names[-10:])\n",
    "    plt.xlabel('Feature importance rank by the RF algorithm')\n",
    "    plt.ylabel('Features')\n",
    "    plt.tight_layout()\n",
    "    plt.rcParams['axes.facecolor']='white'\n",
    "    plt.rcParams['savefig.facecolor']='white'\n",
    "    plt.savefig(\"/Users/royyanovski/Desktop/Data_mining_proj_figs/FeatImp.png\")\n",
    "    plt.show()"
   ]
  },
  {
   "cell_type": "code",
   "execution_count": 100,
   "id": "reduced-format",
   "metadata": {
    "ExecuteTime": {
     "end_time": "2021-06-15T13:49:46.061417Z",
     "start_time": "2021-06-15T13:49:45.492719Z"
    }
   },
   "outputs": [
    {
     "data": {
      "image/png": "[encoded data removed]",
      "text/plain": [
       "<Figure size 432x648 with 1 Axes>"
      ]
     },
     "metadata": {
      "needs_background": "light"
     },
     "output_type": "display_data"
    }
   ],
   "source": [
    "topten_feat_importances(rf_reg.feature_importances_, X_train.columns)"
   ]
  }
 ],
 "metadata": {
  "kernelspec": {
   "display_name": "Python 3",
   "language": "python",
   "name": "python3"
  },
  "language_info": {
   "codemirror_mode": {
    "name": "ipython",
    "version": 3
   },
   "file_extension": ".py",
   "mimetype": "text/x-python",
   "name": "python",
   "nbconvert_exporter": "python",
   "pygments_lexer": "ipython3",
   "version": "3.7.10"
  },
  "latex_envs": {
   "LaTeX_envs_menu_present": true,
   "autoclose": false,
   "autocomplete": true,
   "bibliofile": "biblio.bib",
   "cite_by": "apalike",
   "current_citInitial": 1,
   "eqLabelWithNumbers": true,
   "eqNumInitial": 1,
   "hotkeys": {
    "equation": "Ctrl-E",
    "itemize": "Ctrl-I"
   },
   "labels_anchors": false,
   "latex_user_defs": false,
   "report_style_numbering": false,
   "user_envs_cfg": false
  },
  "toc": {
   "base_numbering": 1,
   "nav_menu": {},
   "number_sections": true,
   "sideBar": true,
   "skip_h1_title": false,
   "title_cell": "Table of Contents",
   "title_sidebar": "Contents",
   "toc_cell": false,
   "toc_position": {},
   "toc_section_display": true,
   "toc_window_display": false
  }
 },
 "nbformat": 4,
 "nbformat_minor": 5
}
